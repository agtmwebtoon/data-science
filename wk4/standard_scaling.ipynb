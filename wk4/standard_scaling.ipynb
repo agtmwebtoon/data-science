{
 "cells": [
  {
   "cell_type": "code",
   "execution_count": 1,
   "metadata": {
    "collapsed": true
   },
   "outputs": [
    {
     "name": "stdout",
     "output_type": "stream",
     "text": [
      "mean: 33.72727272727273\n",
      "std: 5.986210048419755\n",
      "z: [-0.95674436  0.21260986 -1.29084557 -0.28854195 -0.95674436 -0.95674436\n",
      "  0.21260986  0.04555926  2.05016649  1.38196408  0.54671107]\n",
      "If F for under 1 sigma => {26} would receive F\n",
      "If F for under 0.5 sigma => {26, 28} would receive F\n"
     ]
    }
   ],
   "source": [
    "import pandas as pd\n",
    "import numpy as np\n",
    "import matplotlib.pyplot as plt\n",
    "test_scores = [28, 35, 26, 32, 28, 28, 35, 34, 46, 42, 37]\n",
    "test_scores = np.array(test_scores) #list to ndarry\n",
    "\n",
    "mean = test_scores.mean()\n",
    "std = test_scores.std()\n",
    "standard_scores = (test_scores - mean) / std #standard scaling\n",
    "\n",
    "print(f'mean: {mean}')\n",
    "print(f'std: {std}')\n",
    "print(f'z: {standard_scores}')\n",
    "\n",
    "one_sigma = np.where(standard_scores <= -1) #find score under 1 sigma\n",
    "half_sigma = np.where(standard_scores <= -0.5) #find score under 0.5 sigma\n",
    "\n",
    "print(f'If F for under 1 sigma => {set(test_scores[one_sigma])} would receive F')\n",
    "print(f'If F for under 0.5 sigma => {set(test_scores[half_sigma])} would receive F')"
   ]
  },
  {
   "cell_type": "code",
   "execution_count": 3,
   "outputs": [
    {
     "name": "stdout",
     "output_type": "stream",
     "text": [
      "mean: 33.72727272727273\n",
      "std: 5.986210048419755\n",
      "z: [-0.95674436  0.21260986 -1.29084557 -0.28854195 -0.95674436 -0.95674436\n",
      "  0.21260986  0.04555926  2.05016649  1.38196408  0.54671107]\n",
      "Q1 => 28\n",
      "Q2 => 35\n",
      "Q3 => 42\n",
      "If F for under 3rd quartile => [26] would receive F\n"
     ]
    }
   ],
   "source": [
    "test_scores.sort() #sort by elements\n",
    "N = test_scores.shape[0] #get array length\n",
    "\n",
    "Q1 = (N + 1) // 4\n",
    "Q3 = ((N + 1) // 4) * 3\n",
    "Q2 = Q3 - Q1\n",
    "\n",
    "print(f'mean: {mean}')\n",
    "print(f'std: {std}')\n",
    "print(f'Q1 => {test_scores[Q1]}')\n",
    "print(f'Q2 => {test_scores[Q2]}')\n",
    "print(f'Q3 => {test_scores[Q3]}')\n",
    "robust = (test_scores - test_scores[Q1]) / (test_scores[Q3] - test_scores[Q1])\n",
    "\n",
    "f = np.where(robust < robust[Q1]) #find score under 3rd quartile\n",
    "print(f'If F for under 3rd quartile => {test_scores[f]} would receive F')"
   ],
   "metadata": {
    "collapsed": false,
    "pycharm": {
     "name": "#%%\n"
    }
   }
  },
  {
   "cell_type": "code",
   "execution_count": null,
   "outputs": [],
   "source": [],
   "metadata": {
    "collapsed": false,
    "pycharm": {
     "name": "#%%\n"
    }
   }
  }
 ],
 "metadata": {
  "kernelspec": {
   "name": "conda-env-RL_Sutton-py",
   "language": "python",
   "display_name": "Python [conda env:RL_Sutton]"
  },
  "language_info": {
   "codemirror_mode": {
    "name": "ipython",
    "version": 2
   },
   "file_extension": ".py",
   "mimetype": "text/x-python",
   "name": "python",
   "nbconvert_exporter": "python",
   "pygments_lexer": "ipython2",
   "version": "2.7.6"
  }
 },
 "nbformat": 4,
 "nbformat_minor": 0
}