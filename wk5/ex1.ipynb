{
 "cells": [
  {
   "cell_type": "code",
   "execution_count": 1,
   "metadata": {
    "collapsed": true
   },
   "outputs": [],
   "source": [
    "import featuretools as ft\n",
    "import pandas as pd\n",
    "import numpy as np\n",
    "from woodwork.logical_types import Categorical #import categorical type\n",
    "\n",
    "import warnings\n",
    "warnings.filterwarnings('ignore')\n"
   ]
  },
  {
   "cell_type": "code",
   "execution_count": 2,
   "outputs": [],
   "source": [
    "clients = pd.read_csv('../automated-feature-engineering/walk_through/data/clients.csv', parse_dates=['joined'])\n",
    "loans = pd.read_csv('../automated-feature-engineering/walk_through/data/loans.csv', parse_dates=['loan_start', 'loan_end'])\n",
    "payments = pd.read_csv('../automated-feature-engineering/walk_through/data/payments.csv', parse_dates=['payment_date'])"
   ],
   "metadata": {
    "collapsed": false,
    "pycharm": {
     "name": "#%%\n"
    }
   }
  },
  {
   "cell_type": "code",
   "execution_count": 3,
   "outputs": [
    {
     "data": {
      "text/plain": "   client_id     joined  income  credit_score  join_month  log_income\n0      46109 2002-04-16  172677           527           4   12.059178\n1      49545 2007-11-14  104564           770          11   11.557555\n2      41480 2013-03-11  122607           585           3   11.716739\n3      46180 2001-11-06   43851           562          11   10.688553\n4      25707 2006-10-06  211422           621          10   12.261611",
      "text/html": "<div>\n<style scoped>\n    .dataframe tbody tr th:only-of-type {\n        vertical-align: middle;\n    }\n\n    .dataframe tbody tr th {\n        vertical-align: top;\n    }\n\n    .dataframe thead th {\n        text-align: right;\n    }\n</style>\n<table border=\"1\" class=\"dataframe\">\n  <thead>\n    <tr style=\"text-align: right;\">\n      <th></th>\n      <th>client_id</th>\n      <th>joined</th>\n      <th>income</th>\n      <th>credit_score</th>\n      <th>join_month</th>\n      <th>log_income</th>\n    </tr>\n  </thead>\n  <tbody>\n    <tr>\n      <th>0</th>\n      <td>46109</td>\n      <td>2002-04-16</td>\n      <td>172677</td>\n      <td>527</td>\n      <td>4</td>\n      <td>12.059178</td>\n    </tr>\n    <tr>\n      <th>1</th>\n      <td>49545</td>\n      <td>2007-11-14</td>\n      <td>104564</td>\n      <td>770</td>\n      <td>11</td>\n      <td>11.557555</td>\n    </tr>\n    <tr>\n      <th>2</th>\n      <td>41480</td>\n      <td>2013-03-11</td>\n      <td>122607</td>\n      <td>585</td>\n      <td>3</td>\n      <td>11.716739</td>\n    </tr>\n    <tr>\n      <th>3</th>\n      <td>46180</td>\n      <td>2001-11-06</td>\n      <td>43851</td>\n      <td>562</td>\n      <td>11</td>\n      <td>10.688553</td>\n    </tr>\n    <tr>\n      <th>4</th>\n      <td>25707</td>\n      <td>2006-10-06</td>\n      <td>211422</td>\n      <td>621</td>\n      <td>10</td>\n      <td>12.261611</td>\n    </tr>\n  </tbody>\n</table>\n</div>"
     },
     "execution_count": 3,
     "metadata": {},
     "output_type": "execute_result"
    }
   ],
   "source": [
    "clients['join_month'] = clients['joined'].dt.month #parse date and derive feature by date\n",
    "clients['log_income'] = np.log(clients['income']) #make income log scale\n",
    "clients.head()\n"
   ],
   "metadata": {
    "collapsed": false,
    "pycharm": {
     "name": "#%%\n"
    }
   }
  },
  {
   "cell_type": "code",
   "execution_count": 4,
   "outputs": [
    {
     "data": {
      "text/plain": "           total_loan_amount\nclient_id                   \n25707                 159279\n26326                 116321\n26695                 140845\n26945                 106889\n29841                 176634",
      "text/html": "<div>\n<style scoped>\n    .dataframe tbody tr th:only-of-type {\n        vertical-align: middle;\n    }\n\n    .dataframe tbody tr th {\n        vertical-align: top;\n    }\n\n    .dataframe thead th {\n        text-align: right;\n    }\n</style>\n<table border=\"1\" class=\"dataframe\">\n  <thead>\n    <tr style=\"text-align: right;\">\n      <th></th>\n      <th>total_loan_amount</th>\n    </tr>\n    <tr>\n      <th>client_id</th>\n      <th></th>\n    </tr>\n  </thead>\n  <tbody>\n    <tr>\n      <th>25707</th>\n      <td>159279</td>\n    </tr>\n    <tr>\n      <th>26326</th>\n      <td>116321</td>\n    </tr>\n    <tr>\n      <th>26695</th>\n      <td>140845</td>\n    </tr>\n    <tr>\n      <th>26945</th>\n      <td>106889</td>\n    </tr>\n    <tr>\n      <th>29841</th>\n      <td>176634</td>\n    </tr>\n  </tbody>\n</table>\n</div>"
     },
     "execution_count": 4,
     "metadata": {},
     "output_type": "execute_result"
    }
   ],
   "source": [
    "stats = loans.groupby('client_id')['loan_amount'].agg(['sum']) #group by client_id and find total sum of loan\n",
    "stats.columns = ['total_loan_amount']\n",
    "stats.head()"
   ],
   "metadata": {
    "collapsed": false,
    "pycharm": {
     "name": "#%%\n"
    }
   }
  },
  {
   "cell_type": "code",
   "execution_count": 5,
   "outputs": [],
   "source": [
    "clients = clients.merge(stats, left_on = 'client_id', right_index=True, how = 'left').head(10) #merge feature with clients"
   ],
   "metadata": {
    "collapsed": false,
    "pycharm": {
     "name": "#%%\n"
    }
   }
  },
  {
   "cell_type": "code",
   "execution_count": 6,
   "outputs": [],
   "source": [
    "es = ft.EntitySet(id='client') #define entity set by featuretools\n"
   ],
   "metadata": {
    "collapsed": false,
    "pycharm": {
     "name": "#%%\n"
    }
   }
  },
  {
   "cell_type": "code",
   "execution_count": 7,
   "outputs": [],
   "source": [
    "es = es.add_dataframe(dataframe_name='clients',\n",
    "                      dataframe=clients,\n",
    "                      index='client_id',\n",
    "                      time_index='joined')\n",
    "\n",
    "es = es.add_dataframe(dataframe_name='loans',\n",
    "                      dataframe=loans,\n",
    "                      index='loan_id',\n",
    "                      time_index='loan_start',\n",
    "                      logical_types={\n",
    "                          'repaid': Categorical #specify repaid with categorical type\n",
    "                      })\n",
    "\n",
    "es = es.add_dataframe(dataframe_name='payments',\n",
    "                      dataframe=payments,\n",
    "                      make_index=True, #set index payment_id\n",
    "                      index='payment_id',\n",
    "                      time_index='payment_date',\n",
    "                      logical_types= {\n",
    "                          'missed': Categorical # specify missed with Categorical type\n",
    "                      })"
   ],
   "metadata": {
    "collapsed": false,
    "pycharm": {
     "name": "#%%\n"
    }
   }
  },
  {
   "cell_type": "code",
   "execution_count": 8,
   "outputs": [
    {
     "data": {
      "text/plain": "               Logical Type Semantic Tag(s)\nColumn                                     \npayment_id          Integer       ['index']\nloan_id             Integer     ['numeric']\npayment_amount      Integer     ['numeric']\npayment_date       Datetime  ['time_index']\nmissed          Categorical    ['category']",
      "text/html": "<table border=\"1\" class=\"dataframe\">\n  <thead>\n    <tr style=\"text-align: right;\">\n      <th></th>\n      <th>Logical Type</th>\n      <th>Semantic Tag(s)</th>\n    </tr>\n    <tr>\n      <th>Column</th>\n      <th></th>\n      <th></th>\n    </tr>\n  </thead>\n  <tbody>\n    <tr>\n      <th>payment_id</th>\n      <td>Integer</td>\n      <td>['index']</td>\n    </tr>\n    <tr>\n      <th>loan_id</th>\n      <td>Integer</td>\n      <td>['numeric']</td>\n    </tr>\n    <tr>\n      <th>payment_amount</th>\n      <td>Integer</td>\n      <td>['numeric']</td>\n    </tr>\n    <tr>\n      <th>payment_date</th>\n      <td>Datetime</td>\n      <td>['time_index']</td>\n    </tr>\n    <tr>\n      <th>missed</th>\n      <td>Categorical</td>\n      <td>['category']</td>\n    </tr>\n  </tbody>\n</table>"
     },
     "execution_count": 8,
     "metadata": {},
     "output_type": "execute_result"
    }
   ],
   "source": [
    "es['payments'].ww.schema"
   ],
   "metadata": {
    "collapsed": false,
    "pycharm": {
     "name": "#%%\n"
    }
   }
  },
  {
   "cell_type": "code",
   "execution_count": 9,
   "outputs": [
    {
     "data": {
      "text/plain": "                  Logical Type Semantic Tag(s)\nColumn                                        \nclient_id              Integer       ['index']\njoined                Datetime  ['time_index']\nincome                 Integer     ['numeric']\ncredit_score           Integer     ['numeric']\njoin_month             Integer     ['numeric']\nlog_income              Double     ['numeric']\ntotal_loan_amount      Integer     ['numeric']",
      "text/html": "<table border=\"1\" class=\"dataframe\">\n  <thead>\n    <tr style=\"text-align: right;\">\n      <th></th>\n      <th>Logical Type</th>\n      <th>Semantic Tag(s)</th>\n    </tr>\n    <tr>\n      <th>Column</th>\n      <th></th>\n      <th></th>\n    </tr>\n  </thead>\n  <tbody>\n    <tr>\n      <th>client_id</th>\n      <td>Integer</td>\n      <td>['index']</td>\n    </tr>\n    <tr>\n      <th>joined</th>\n      <td>Datetime</td>\n      <td>['time_index']</td>\n    </tr>\n    <tr>\n      <th>income</th>\n      <td>Integer</td>\n      <td>['numeric']</td>\n    </tr>\n    <tr>\n      <th>credit_score</th>\n      <td>Integer</td>\n      <td>['numeric']</td>\n    </tr>\n    <tr>\n      <th>join_month</th>\n      <td>Integer</td>\n      <td>['numeric']</td>\n    </tr>\n    <tr>\n      <th>log_income</th>\n      <td>Double</td>\n      <td>['numeric']</td>\n    </tr>\n    <tr>\n      <th>total_loan_amount</th>\n      <td>Integer</td>\n      <td>['numeric']</td>\n    </tr>\n  </tbody>\n</table>"
     },
     "execution_count": 9,
     "metadata": {},
     "output_type": "execute_result"
    }
   ],
   "source": [
    "es['clients'].ww.schema"
   ],
   "metadata": {
    "collapsed": false,
    "pycharm": {
     "name": "#%%\n"
    }
   }
  },
  {
   "cell_type": "code",
   "execution_count": 10,
   "outputs": [],
   "source": [
    "es = es.add_relationship('clients', 'client_id', 'loans', 'client_id') #add relationship\n",
    "es = es.add_relationship('loans', 'loan_id', 'payments', 'loan_id')"
   ],
   "metadata": {
    "collapsed": false,
    "pycharm": {
     "name": "#%%\n"
    }
   }
  },
  {
   "cell_type": "code",
   "execution_count": 11,
   "outputs": [
    {
     "data": {
      "text/plain": "Entityset: client\n  DataFrames:\n    clients [Rows: 10, Columns: 7]\n    loans [Rows: 443, Columns: 8]\n    payments [Rows: 3456, Columns: 5]\n  Relationships:\n    loans.client_id -> clients.client_id\n    payments.loan_id -> loans.loan_id"
     },
     "execution_count": 11,
     "metadata": {},
     "output_type": "execute_result"
    }
   ],
   "source": [
    "es"
   ],
   "metadata": {
    "collapsed": false,
    "pycharm": {
     "name": "#%%\n"
    }
   }
  },
  {
   "cell_type": "code",
   "execution_count": 12,
   "outputs": [],
   "source": [
    "features, feature_names = ft.dfs(entityset=es,\n",
    "                                 target_dataframe_name='clients',\n",
    "                                 agg_primitives=['mean', 'max', 'percent_true', 'last'],\n",
    "                                 trans_primitives=['year', 'month', 'subtract_numeric_scalar','divide_numeric_scalar'])"
   ],
   "metadata": {
    "collapsed": false,
    "pycharm": {
     "name": "#%%\n"
    }
   }
  },
  {
   "cell_type": "code",
   "execution_count": 13,
   "outputs": [
    {
     "data": {
      "text/plain": "          MONTH(joined)\nclient_id              \n46180                11\n46109                 4\n35214                 8\n32726                 5\n25707                10\n49545                11\n48177                 6\n35089                 3\n39505                10\n41480                 3",
      "text/html": "<div>\n<style scoped>\n    .dataframe tbody tr th:only-of-type {\n        vertical-align: middle;\n    }\n\n    .dataframe tbody tr th {\n        vertical-align: top;\n    }\n\n    .dataframe thead th {\n        text-align: right;\n    }\n</style>\n<table border=\"1\" class=\"dataframe\">\n  <thead>\n    <tr style=\"text-align: right;\">\n      <th></th>\n      <th>MONTH(joined)</th>\n    </tr>\n    <tr>\n      <th>client_id</th>\n      <th></th>\n    </tr>\n  </thead>\n  <tbody>\n    <tr>\n      <th>46180</th>\n      <td>11</td>\n    </tr>\n    <tr>\n      <th>46109</th>\n      <td>4</td>\n    </tr>\n    <tr>\n      <th>35214</th>\n      <td>8</td>\n    </tr>\n    <tr>\n      <th>32726</th>\n      <td>5</td>\n    </tr>\n    <tr>\n      <th>25707</th>\n      <td>10</td>\n    </tr>\n    <tr>\n      <th>49545</th>\n      <td>11</td>\n    </tr>\n    <tr>\n      <th>48177</th>\n      <td>6</td>\n    </tr>\n    <tr>\n      <th>35089</th>\n      <td>3</td>\n    </tr>\n    <tr>\n      <th>39505</th>\n      <td>10</td>\n    </tr>\n    <tr>\n      <th>41480</th>\n      <td>3</td>\n    </tr>\n  </tbody>\n</table>\n</div>"
     },
     "execution_count": 13,
     "metadata": {},
     "output_type": "execute_result"
    }
   ],
   "source": [
    "pd.DataFrame(features['MONTH(joined)'])"
   ],
   "metadata": {
    "collapsed": false,
    "pycharm": {
     "name": "#%%\n"
    }
   }
  },
  {
   "cell_type": "code",
   "execution_count": 14,
   "outputs": [
    {
     "data": {
      "text/plain": "           MEAN(payments.payment_amount)\nclient_id                               \n46180                        1186.550336\n46109                        1375.560284\n35214                        1076.987952\n32726                         944.298013\n25707                        1178.552795\n49545                        1481.188482\n48177                        1199.715190\n35089                        1094.748428\n39505                        1162.026490\n41480                        1246.509934",
      "text/html": "<div>\n<style scoped>\n    .dataframe tbody tr th:only-of-type {\n        vertical-align: middle;\n    }\n\n    .dataframe tbody tr th {\n        vertical-align: top;\n    }\n\n    .dataframe thead th {\n        text-align: right;\n    }\n</style>\n<table border=\"1\" class=\"dataframe\">\n  <thead>\n    <tr style=\"text-align: right;\">\n      <th></th>\n      <th>MEAN(payments.payment_amount)</th>\n    </tr>\n    <tr>\n      <th>client_id</th>\n      <th></th>\n    </tr>\n  </thead>\n  <tbody>\n    <tr>\n      <th>46180</th>\n      <td>1186.550336</td>\n    </tr>\n    <tr>\n      <th>46109</th>\n      <td>1375.560284</td>\n    </tr>\n    <tr>\n      <th>35214</th>\n      <td>1076.987952</td>\n    </tr>\n    <tr>\n      <th>32726</th>\n      <td>944.298013</td>\n    </tr>\n    <tr>\n      <th>25707</th>\n      <td>1178.552795</td>\n    </tr>\n    <tr>\n      <th>49545</th>\n      <td>1481.188482</td>\n    </tr>\n    <tr>\n      <th>48177</th>\n      <td>1199.715190</td>\n    </tr>\n    <tr>\n      <th>35089</th>\n      <td>1094.748428</td>\n    </tr>\n    <tr>\n      <th>39505</th>\n      <td>1162.026490</td>\n    </tr>\n    <tr>\n      <th>41480</th>\n      <td>1246.509934</td>\n    </tr>\n  </tbody>\n</table>\n</div>"
     },
     "execution_count": 14,
     "metadata": {},
     "output_type": "execute_result"
    }
   ],
   "source": [
    "pd.DataFrame(features['MEAN(payments.payment_amount)'])"
   ],
   "metadata": {
    "collapsed": false,
    "pycharm": {
     "name": "#%%\n"
    }
   }
  },
  {
   "cell_type": "code",
   "execution_count": 15,
   "outputs": [
    {
     "data": {
      "text/plain": "           income  credit_score  join_month  log_income  total_loan_amount  \\\nclient_id                                                                    \n46180       43851           562          11   10.688553             154017   \n46109      172677           527           4   12.059178             179032   \n35214       95849           696           8   11.470529             129124   \n32726      235705           730           5   12.370336             126032   \n25707      211422           621          10   12.261611             159279   \n49545      104564           770          11   11.557555             205786   \n48177      190632           769           6   12.158100             141063   \n35089      131176           771           3   11.784295             138784   \n39505      153873           610          10   11.943883             148481   \n41480      122607           585           3   11.716739             157897   \n\n           LAST(loans.loan_amount)  LAST(loans.loan_id) LAST(loans.loan_type)  \\\nclient_id                                                                       \n46180                         3834                10887                 other   \n46109                        10853                11961                 other   \n35214                         9389                10336                  home   \n32726                         5325                10858                 other   \n25707                         2203                10363                  home   \n49545                         7061                11514                  home   \n48177                          659                10684                credit   \n35089                          773                11595                 other   \n39505                         9600                10966                  cash   \n41480                        11154                10991                  home   \n\n           LAST(loans.rate) LAST(loans.repaid)  ...  \\\nclient_id                                       ...   \n46180                  1.38                  0  ...   \n46109                  2.82                  0  ...   \n35214                  1.40                  0  ...   \n32726                  2.83                  1  ...   \n25707                  7.40                  0  ...   \n49545                  4.23                  1  ...   \n48177                  1.52                  1  ...   \n35089                  7.63                  1  ...   \n39505                  0.25                  0  ...   \n41480                  6.48                  1  ...   \n\n           LAST(payments.payment_id) - 0  MAX(loans.loan_amount) - 0  \\\nclient_id                                                              \n46180                              437.0                     14081.0   \n46109                              102.0                     14049.0   \n35214                             1160.0                     14767.0   \n32726                              876.0                     14802.0   \n25707                              566.0                     13913.0   \n49545                             1131.0                     14971.0   \n48177                             1308.0                     14740.0   \n35089                              957.0                     13194.0   \n39505                              698.0                     14575.0   \n41480                              377.0                     14399.0   \n\n           MAX(loans.rate) - 0  MAX(payments.payment_amount) - 0  \\\nclient_id                                                          \n46180                     9.26                            2660.0   \n46109                     9.48                            2735.0   \n35214                     8.44                            2874.0   \n32726                     9.10                            2695.0   \n25707                     9.44                            2704.0   \n49545                     6.52                            2873.0   \n48177                    10.89                            2724.0   \n35089                     7.63                            2563.0   \n39505                     9.91                            2764.0   \n41480                    10.49                            2719.0   \n\n          MEAN(loans.loan_amount) - 0  MEAN(loans.rate) - 0  \\\nclient_id                                                     \n46180                     7700.850000              3.502500   \n46109                     8951.600000              3.152500   \n35214                     7173.555556              3.108333   \n32726                     6633.263158              3.058947   \n25707                     7963.950000              3.477000   \n49545                    10289.300000              2.684000   \n48177                     7424.368421              3.938947   \n35089                     6939.200000              3.513500   \n39505                     7424.050000              3.190500   \n41480                     7894.850000              3.110500   \n\n           MEAN(payments.payment_amount) - 0  YEAR(LAST(loans.loan_end))  \\\nclient_id                                                                  \n46180                            1186.550336                        2016   \n46109                            1375.560284                        2015   \n35214                            1076.987952                        2016   \n32726                             944.298013                        2016   \n25707                            1178.552795                        2015   \n49545                            1481.188482                        2015   \n48177                            1199.715190                        2017   \n35089                            1094.748428                        2016   \n39505                            1162.026490                        2017   \n41480                            1246.509934                        2016   \n\n           YEAR(LAST(loans.loan_start))  YEAR(LAST(payments.payment_date))  \nclient_id                                                                   \n46180                              2014                               2015  \n46109                              2013                               2014  \n35214                              2014                               2014  \n32726                              2014                               2014  \n25707                              2014                               2014  \n49545                              2014                               2015  \n48177                              2014                               2015  \n35089                              2014                               2015  \n39505                              2014                               2015  \n41480                              2014                               2015  \n\n[10 rows x 92 columns]",
      "text/html": "<div>\n<style scoped>\n    .dataframe tbody tr th:only-of-type {\n        vertical-align: middle;\n    }\n\n    .dataframe tbody tr th {\n        vertical-align: top;\n    }\n\n    .dataframe thead th {\n        text-align: right;\n    }\n</style>\n<table border=\"1\" class=\"dataframe\">\n  <thead>\n    <tr style=\"text-align: right;\">\n      <th></th>\n      <th>income</th>\n      <th>credit_score</th>\n      <th>join_month</th>\n      <th>log_income</th>\n      <th>total_loan_amount</th>\n      <th>LAST(loans.loan_amount)</th>\n      <th>LAST(loans.loan_id)</th>\n      <th>LAST(loans.loan_type)</th>\n      <th>LAST(loans.rate)</th>\n      <th>LAST(loans.repaid)</th>\n      <th>...</th>\n      <th>LAST(payments.payment_id) - 0</th>\n      <th>MAX(loans.loan_amount) - 0</th>\n      <th>MAX(loans.rate) - 0</th>\n      <th>MAX(payments.payment_amount) - 0</th>\n      <th>MEAN(loans.loan_amount) - 0</th>\n      <th>MEAN(loans.rate) - 0</th>\n      <th>MEAN(payments.payment_amount) - 0</th>\n      <th>YEAR(LAST(loans.loan_end))</th>\n      <th>YEAR(LAST(loans.loan_start))</th>\n      <th>YEAR(LAST(payments.payment_date))</th>\n    </tr>\n    <tr>\n      <th>client_id</th>\n      <th></th>\n      <th></th>\n      <th></th>\n      <th></th>\n      <th></th>\n      <th></th>\n      <th></th>\n      <th></th>\n      <th></th>\n      <th></th>\n      <th></th>\n      <th></th>\n      <th></th>\n      <th></th>\n      <th></th>\n      <th></th>\n      <th></th>\n      <th></th>\n      <th></th>\n      <th></th>\n      <th></th>\n    </tr>\n  </thead>\n  <tbody>\n    <tr>\n      <th>46180</th>\n      <td>43851</td>\n      <td>562</td>\n      <td>11</td>\n      <td>10.688553</td>\n      <td>154017</td>\n      <td>3834</td>\n      <td>10887</td>\n      <td>other</td>\n      <td>1.38</td>\n      <td>0</td>\n      <td>...</td>\n      <td>437.0</td>\n      <td>14081.0</td>\n      <td>9.26</td>\n      <td>2660.0</td>\n      <td>7700.850000</td>\n      <td>3.502500</td>\n      <td>1186.550336</td>\n      <td>2016</td>\n      <td>2014</td>\n      <td>2015</td>\n    </tr>\n    <tr>\n      <th>46109</th>\n      <td>172677</td>\n      <td>527</td>\n      <td>4</td>\n      <td>12.059178</td>\n      <td>179032</td>\n      <td>10853</td>\n      <td>11961</td>\n      <td>other</td>\n      <td>2.82</td>\n      <td>0</td>\n      <td>...</td>\n      <td>102.0</td>\n      <td>14049.0</td>\n      <td>9.48</td>\n      <td>2735.0</td>\n      <td>8951.600000</td>\n      <td>3.152500</td>\n      <td>1375.560284</td>\n      <td>2015</td>\n      <td>2013</td>\n      <td>2014</td>\n    </tr>\n    <tr>\n      <th>35214</th>\n      <td>95849</td>\n      <td>696</td>\n      <td>8</td>\n      <td>11.470529</td>\n      <td>129124</td>\n      <td>9389</td>\n      <td>10336</td>\n      <td>home</td>\n      <td>1.40</td>\n      <td>0</td>\n      <td>...</td>\n      <td>1160.0</td>\n      <td>14767.0</td>\n      <td>8.44</td>\n      <td>2874.0</td>\n      <td>7173.555556</td>\n      <td>3.108333</td>\n      <td>1076.987952</td>\n      <td>2016</td>\n      <td>2014</td>\n      <td>2014</td>\n    </tr>\n    <tr>\n      <th>32726</th>\n      <td>235705</td>\n      <td>730</td>\n      <td>5</td>\n      <td>12.370336</td>\n      <td>126032</td>\n      <td>5325</td>\n      <td>10858</td>\n      <td>other</td>\n      <td>2.83</td>\n      <td>1</td>\n      <td>...</td>\n      <td>876.0</td>\n      <td>14802.0</td>\n      <td>9.10</td>\n      <td>2695.0</td>\n      <td>6633.263158</td>\n      <td>3.058947</td>\n      <td>944.298013</td>\n      <td>2016</td>\n      <td>2014</td>\n      <td>2014</td>\n    </tr>\n    <tr>\n      <th>25707</th>\n      <td>211422</td>\n      <td>621</td>\n      <td>10</td>\n      <td>12.261611</td>\n      <td>159279</td>\n      <td>2203</td>\n      <td>10363</td>\n      <td>home</td>\n      <td>7.40</td>\n      <td>0</td>\n      <td>...</td>\n      <td>566.0</td>\n      <td>13913.0</td>\n      <td>9.44</td>\n      <td>2704.0</td>\n      <td>7963.950000</td>\n      <td>3.477000</td>\n      <td>1178.552795</td>\n      <td>2015</td>\n      <td>2014</td>\n      <td>2014</td>\n    </tr>\n    <tr>\n      <th>49545</th>\n      <td>104564</td>\n      <td>770</td>\n      <td>11</td>\n      <td>11.557555</td>\n      <td>205786</td>\n      <td>7061</td>\n      <td>11514</td>\n      <td>home</td>\n      <td>4.23</td>\n      <td>1</td>\n      <td>...</td>\n      <td>1131.0</td>\n      <td>14971.0</td>\n      <td>6.52</td>\n      <td>2873.0</td>\n      <td>10289.300000</td>\n      <td>2.684000</td>\n      <td>1481.188482</td>\n      <td>2015</td>\n      <td>2014</td>\n      <td>2015</td>\n    </tr>\n    <tr>\n      <th>48177</th>\n      <td>190632</td>\n      <td>769</td>\n      <td>6</td>\n      <td>12.158100</td>\n      <td>141063</td>\n      <td>659</td>\n      <td>10684</td>\n      <td>credit</td>\n      <td>1.52</td>\n      <td>1</td>\n      <td>...</td>\n      <td>1308.0</td>\n      <td>14740.0</td>\n      <td>10.89</td>\n      <td>2724.0</td>\n      <td>7424.368421</td>\n      <td>3.938947</td>\n      <td>1199.715190</td>\n      <td>2017</td>\n      <td>2014</td>\n      <td>2015</td>\n    </tr>\n    <tr>\n      <th>35089</th>\n      <td>131176</td>\n      <td>771</td>\n      <td>3</td>\n      <td>11.784295</td>\n      <td>138784</td>\n      <td>773</td>\n      <td>11595</td>\n      <td>other</td>\n      <td>7.63</td>\n      <td>1</td>\n      <td>...</td>\n      <td>957.0</td>\n      <td>13194.0</td>\n      <td>7.63</td>\n      <td>2563.0</td>\n      <td>6939.200000</td>\n      <td>3.513500</td>\n      <td>1094.748428</td>\n      <td>2016</td>\n      <td>2014</td>\n      <td>2015</td>\n    </tr>\n    <tr>\n      <th>39505</th>\n      <td>153873</td>\n      <td>610</td>\n      <td>10</td>\n      <td>11.943883</td>\n      <td>148481</td>\n      <td>9600</td>\n      <td>10966</td>\n      <td>cash</td>\n      <td>0.25</td>\n      <td>0</td>\n      <td>...</td>\n      <td>698.0</td>\n      <td>14575.0</td>\n      <td>9.91</td>\n      <td>2764.0</td>\n      <td>7424.050000</td>\n      <td>3.190500</td>\n      <td>1162.026490</td>\n      <td>2017</td>\n      <td>2014</td>\n      <td>2015</td>\n    </tr>\n    <tr>\n      <th>41480</th>\n      <td>122607</td>\n      <td>585</td>\n      <td>3</td>\n      <td>11.716739</td>\n      <td>157897</td>\n      <td>11154</td>\n      <td>10991</td>\n      <td>home</td>\n      <td>6.48</td>\n      <td>1</td>\n      <td>...</td>\n      <td>377.0</td>\n      <td>14399.0</td>\n      <td>10.49</td>\n      <td>2719.0</td>\n      <td>7894.850000</td>\n      <td>3.110500</td>\n      <td>1246.509934</td>\n      <td>2016</td>\n      <td>2014</td>\n      <td>2015</td>\n    </tr>\n  </tbody>\n</table>\n<p>10 rows × 92 columns</p>\n</div>"
     },
     "execution_count": 15,
     "metadata": {},
     "output_type": "execute_result"
    }
   ],
   "source": [
    "pd.DataFrame(features) #check the features and value"
   ],
   "metadata": {
    "collapsed": false,
    "pycharm": {
     "name": "#%%\n"
    }
   }
  },
  {
   "cell_type": "code",
   "execution_count": null,
   "outputs": [],
   "source": [],
   "metadata": {
    "collapsed": false,
    "pycharm": {
     "name": "#%%\n"
    }
   }
  }
 ],
 "metadata": {
  "kernelspec": {
   "display_name": "Python 3",
   "language": "python",
   "name": "python3"
  },
  "language_info": {
   "codemirror_mode": {
    "name": "ipython",
    "version": 2
   },
   "file_extension": ".py",
   "mimetype": "text/x-python",
   "name": "python",
   "nbconvert_exporter": "python",
   "pygments_lexer": "ipython2",
   "version": "2.7.6"
  }
 },
 "nbformat": 4,
 "nbformat_minor": 0
}