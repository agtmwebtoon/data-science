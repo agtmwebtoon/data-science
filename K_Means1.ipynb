{
 "nbformat": 4,
 "nbformat_minor": 0,
 "metadata": {
  "colab": {
   "name": "K_Means1.ipynb",
   "provenance": [],
   "collapsed_sections": [],
   "authorship_tag": "ABX9TyOJViYFZc6t3Oa6vgjZmx6o"
  },
  "kernelspec": {
   "name": "rl_sutton",
   "language": "python",
   "display_name": "gym"
  },
  "language_info": {
   "name": "python"
  }
 },
 "cells": [
  {
   "cell_type": "code",
   "metadata": {
    "id": "1PzRZyHBey3y"
   },
   "source": [
    "from sklearn.cluster import KMeans\n",
    "import numpy as np\n",
    "import matplotlib.pyplot as plt\n",
    "\n",
    "x=np.array([[185, 60], [180, 60], [185, 70],[165, 63], [155, 68], [170, 75], [175, 80]])\n",
    "\n",
    "# k-평균 알고리즘 모델 생성\n",
    "model = KMeans(n_clusters=2)\n",
    "model.fit(x) # 학습 및 군집화\n",
    "\n",
    "print(model.labels_)          # 데이터 포인트 각각이 속한 집단 출력\n",
    "print(model.cluster_centers_) # fit 메서드로 학습한 집단의 중심"
   ],
   "execution_count": 5,
   "outputs": [
    {
     "name": "stdout",
     "output_type": "stream",
     "text": [
      "[0 0 0 1 1 1 1]\n",
      "[[183.33333333  63.33333333]\n",
      " [166.25        71.5       ]]\n"
     ]
    }
   ]
  },
  {
   "cell_type": "code",
   "metadata": {
    "id": "6pXZm1e0hmsr"
   },
   "source": [
    "# 시각화\n",
    "plt.scatter(x[:,0], x[:,1], c=model.labels_,cmap='rainbow')\n",
    "plt.show()"
   ],
   "execution_count": 6,
   "outputs": [
    {
     "data": {
      "text/plain": "<Figure size 432x288 with 1 Axes>",
      "image/png": "[encoded data removed]"
     },
     "metadata": {
      "needs_background": "light"
     },
     "output_type": "display_data"
    }
   ]
  },
  {
   "cell_type": "code",
   "execution_count": null,
   "outputs": [],
   "source": [],
   "metadata": {
    "collapsed": false,
    "pycharm": {
     "name": "#%%\n"
    }
   }
  }
 ]
}