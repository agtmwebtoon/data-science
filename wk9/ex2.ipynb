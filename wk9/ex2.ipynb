{
 "cells": [
  {
   "cell_type": "code",
   "execution_count": 215,
   "outputs": [],
   "source": [
    "import numpy as np\n",
    "import pandas as pd\n",
    "import matplotlib.pyplot as plt\n",
    "from collections import Counter\n"
   ],
   "metadata": {
    "collapsed": false,
    "pycharm": {
     "name": "#%%\n"
    }
   }
  },
  {
   "cell_type": "code",
   "execution_count": 216,
   "outputs": [],
   "source": [
    "df = pd.read_csv(\"../dataset/wk9/knn_data.csv\")\n",
    "\n",
    "df_X = df.iloc[:, :-1]\n",
    "df_y = df.iloc[:, -1]\n",
    "\n",
    "categories = df_y.unique()"
   ],
   "metadata": {
    "collapsed": false,
    "pycharm": {
     "name": "#%%\n"
    }
   }
  },
  {
   "cell_type": "code",
   "execution_count": 230,
   "outputs": [],
   "source": [
    "def visualize(X):\n",
    "    global df_X\n",
    "    df_X_visualization = normalization(df_X)\n",
    "\n",
    "    for category in categories:\n",
    "        category_index = np.where(df_y == category)[0]\n",
    "        df_X_category = df_X_visualization.iloc[category_index]\n",
    "\n",
    "\n",
    "        plt.scatter(df_X_category['Height'], df_X_category['weight'])\n",
    "        plt.xlabel(\"Height\")\n",
    "        plt.ylabel(\"Weight\")\n",
    "\n",
    "    plt.scatter(X[0], X[1])"
   ],
   "metadata": {
    "collapsed": false,
    "pycharm": {
     "name": "#%%\n"
    }
   }
  },
  {
   "cell_type": "code",
   "execution_count": 231,
   "outputs": [],
   "source": [
    "def normalization(X):\n",
    "    mean = np.mean(X)\n",
    "    std = np.std(X)\n",
    "\n",
    "    normal = (X - mean) / std\n",
    "\n",
    "    return normal\n",
    "\n"
   ],
   "metadata": {
    "collapsed": false,
    "pycharm": {
     "name": "#%%\n"
    }
   }
  },
  {
   "cell_type": "code",
   "execution_count": 232,
   "outputs": [],
   "source": [
    "def predict(dataset, X, k):\n",
    "    global df_X\n",
    "    xx = pd.DataFrame({\"Height\": [X[0]], \"weight\": [X[1]]})\n",
    "    dataset = pd.concat([dataset, xx], ignore_index=True)\n",
    "    dataset = normalization(dataset)\n",
    "    x =  dataset.iloc[-1]\n",
    "    dataset = dataset.iloc[:-1, :]\n",
    "    difference = dataset - x\n",
    "    distance = np.power(difference, 2)\n",
    "    distance = np.sum(distance, axis=1)\n",
    "    distance = np.sqrt(distance)\n",
    "\n",
    "    k_nearest = df_y[np.argsort(distance)[:k]]\n",
    "    counter = Counter(k_nearest)\n",
    "\n",
    "    visualize(x)\n",
    "\n",
    "    return counter.most_common(1)[0][0]"
   ],
   "metadata": {
    "collapsed": false,
    "pycharm": {
     "name": "#%%\n"
    }
   }
  },
  {
   "cell_type": "code",
   "execution_count": 237,
   "outputs": [
    {
     "data": {
      "text/plain": "'L'"
     },
     "execution_count": 237,
     "metadata": {},
     "output_type": "execute_result"
    },
    {
     "data": {
      "text/plain": "<Figure size 432x288 with 1 Axes>",
      "image/png": "[encoded data removed]"
     },
     "metadata": {
      "needs_background": "light"
     },
     "output_type": "display_data"
    }
   ],
   "source": [
    "predict(df_X, [164, 63], 5)"
   ],
   "metadata": {
    "collapsed": false,
    "pycharm": {
     "name": "#%%\n"
    }
   }
  },
  {
   "cell_type": "code",
   "execution_count": 220,
   "outputs": [],
   "source": [],
   "metadata": {
    "collapsed": false,
    "pycharm": {
     "name": "#%%\n"
    }
   }
  },
  {
   "cell_type": "code",
   "execution_count": null,
   "outputs": [],
   "source": [],
   "metadata": {
    "collapsed": false,
    "pycharm": {
     "name": "#%%\n"
    }
   }
  }
 ],
 "metadata": {
  "kernelspec": {
   "display_name": "Python 3",
   "language": "python",
   "name": "python3"
  },
  "language_info": {
   "codemirror_mode": {
    "name": "ipython",
    "version": 2
   },
   "file_extension": ".py",
   "mimetype": "text/x-python",
   "name": "python",
   "nbconvert_exporter": "python",
   "pygments_lexer": "ipython2",
   "version": "2.7.6"
  }
 },
 "nbformat": 4,
 "nbformat_minor": 0
}