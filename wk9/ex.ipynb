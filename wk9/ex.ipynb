{
 "cells": [
  {
   "cell_type": "code",
   "execution_count": 1,
   "metadata": {
    "collapsed": true
   },
   "outputs": [],
   "source": [
    "import numpy as np\n",
    "import pandas as pd"
   ]
  },
  {
   "cell_type": "code",
   "execution_count": 35,
   "outputs": [],
   "source": [
    "df = pd.read_csv('../dataset/wk9/outcome_data.csv')\n",
    "\n",
    "target = 'Responded'"
   ],
   "metadata": {
    "collapsed": false,
    "pycharm": {
     "name": "#%%\n"
    }
   }
  },
  {
   "cell_type": "code",
   "execution_count": 36,
   "outputs": [
    {
     "data": {
      "text/plain": "    District     House Type Income Previous Customer    Outcome\n2      Rural       Detached   High                No  Responded\n3      Urban  Semi-detached   High                No  Responded\n4      Urban  Semi-detached    Low                No  Responded\n6      Rural  Semi-detached    Low               Yes  Responded\n8   Suburban  Semi-detached    Low                No  Responded\n9      Urban        Terrace    Low                No  Responded\n10  Suburban        Terrace    Low               Yes  Responded\n11     Rural        Terrace   High               Yes  Responded\n12     Rural       Detached    Low                No  Responded",
      "text/html": "<div>\n<style scoped>\n    .dataframe tbody tr th:only-of-type {\n        vertical-align: middle;\n    }\n\n    .dataframe tbody tr th {\n        vertical-align: top;\n    }\n\n    .dataframe thead th {\n        text-align: right;\n    }\n</style>\n<table border=\"1\" class=\"dataframe\">\n  <thead>\n    <tr style=\"text-align: right;\">\n      <th></th>\n      <th>District</th>\n      <th>House Type</th>\n      <th>Income</th>\n      <th>Previous Customer</th>\n      <th>Outcome</th>\n    </tr>\n  </thead>\n  <tbody>\n    <tr>\n      <th>2</th>\n      <td>Rural</td>\n      <td>Detached</td>\n      <td>High</td>\n      <td>No</td>\n      <td>Responded</td>\n    </tr>\n    <tr>\n      <th>3</th>\n      <td>Urban</td>\n      <td>Semi-detached</td>\n      <td>High</td>\n      <td>No</td>\n      <td>Responded</td>\n    </tr>\n    <tr>\n      <th>4</th>\n      <td>Urban</td>\n      <td>Semi-detached</td>\n      <td>Low</td>\n      <td>No</td>\n      <td>Responded</td>\n    </tr>\n    <tr>\n      <th>6</th>\n      <td>Rural</td>\n      <td>Semi-detached</td>\n      <td>Low</td>\n      <td>Yes</td>\n      <td>Responded</td>\n    </tr>\n    <tr>\n      <th>8</th>\n      <td>Suburban</td>\n      <td>Semi-detached</td>\n      <td>Low</td>\n      <td>No</td>\n      <td>Responded</td>\n    </tr>\n    <tr>\n      <th>9</th>\n      <td>Urban</td>\n      <td>Terrace</td>\n      <td>Low</td>\n      <td>No</td>\n      <td>Responded</td>\n    </tr>\n    <tr>\n      <th>10</th>\n      <td>Suburban</td>\n      <td>Terrace</td>\n      <td>Low</td>\n      <td>Yes</td>\n      <td>Responded</td>\n    </tr>\n    <tr>\n      <th>11</th>\n      <td>Rural</td>\n      <td>Terrace</td>\n      <td>High</td>\n      <td>Yes</td>\n      <td>Responded</td>\n    </tr>\n    <tr>\n      <th>12</th>\n      <td>Rural</td>\n      <td>Detached</td>\n      <td>Low</td>\n      <td>No</td>\n      <td>Responded</td>\n    </tr>\n  </tbody>\n</table>\n</div>"
     },
     "execution_count": 36,
     "metadata": {},
     "output_type": "execute_result"
    }
   ],
   "source": [
    "df[df[\"Outcome\"] == target]"
   ],
   "metadata": {
    "collapsed": false,
    "pycharm": {
     "name": "#%%\n"
    }
   }
  },
  {
   "cell_type": "code",
   "execution_count": 37,
   "outputs": [
    {
     "data": {
      "text/plain": "array([0, 0, 1, 1, 1, 0, 1, 0, 1, 1, 1, 1, 1, 0])"
     },
     "execution_count": 37,
     "metadata": {},
     "output_type": "execute_result"
    }
   ],
   "source": [
    "np.where(df[\"Outcome\"] == target, 1, 0)"
   ],
   "metadata": {
    "collapsed": false,
    "pycharm": {
     "name": "#%%\n"
    }
   }
  },
  {
   "cell_type": "code",
   "execution_count": 38,
   "outputs": [
    {
     "data": {
      "text/plain": "        District     House Type Income Previous Customer    Outcome\ncount         14             14     14                14         14\nunique         3              3      2                 2          2\ntop     Suburban  Semi-detached   High                No  Responded\nfreq           5              5      7                 8          9",
      "text/html": "<div>\n<style scoped>\n    .dataframe tbody tr th:only-of-type {\n        vertical-align: middle;\n    }\n\n    .dataframe tbody tr th {\n        vertical-align: top;\n    }\n\n    .dataframe thead th {\n        text-align: right;\n    }\n</style>\n<table border=\"1\" class=\"dataframe\">\n  <thead>\n    <tr style=\"text-align: right;\">\n      <th></th>\n      <th>District</th>\n      <th>House Type</th>\n      <th>Income</th>\n      <th>Previous Customer</th>\n      <th>Outcome</th>\n    </tr>\n  </thead>\n  <tbody>\n    <tr>\n      <th>count</th>\n      <td>14</td>\n      <td>14</td>\n      <td>14</td>\n      <td>14</td>\n      <td>14</td>\n    </tr>\n    <tr>\n      <th>unique</th>\n      <td>3</td>\n      <td>3</td>\n      <td>2</td>\n      <td>2</td>\n      <td>2</td>\n    </tr>\n    <tr>\n      <th>top</th>\n      <td>Suburban</td>\n      <td>Semi-detached</td>\n      <td>High</td>\n      <td>No</td>\n      <td>Responded</td>\n    </tr>\n    <tr>\n      <th>freq</th>\n      <td>5</td>\n      <td>5</td>\n      <td>7</td>\n      <td>8</td>\n      <td>9</td>\n    </tr>\n  </tbody>\n</table>\n</div>"
     },
     "execution_count": 38,
     "metadata": {},
     "output_type": "execute_result"
    }
   ],
   "source": [
    "df.describe()"
   ],
   "metadata": {
    "collapsed": false,
    "pycharm": {
     "name": "#%%\n"
    }
   }
  },
  {
   "cell_type": "code",
   "execution_count": null,
   "outputs": [],
   "source": [],
   "metadata": {
    "collapsed": false,
    "pycharm": {
     "name": "#%%\n"
    }
   }
  }
 ],
 "metadata": {
  "kernelspec": {
   "display_name": "Python 3",
   "language": "python",
   "name": "python3"
  },
  "language_info": {
   "codemirror_mode": {
    "name": "ipython",
    "version": 2
   },
   "file_extension": ".py",
   "mimetype": "text/x-python",
   "name": "python",
   "nbconvert_exporter": "python",
   "pygments_lexer": "ipython2",
   "version": "2.7.6"
  }
 },
 "nbformat": 4,
 "nbformat_minor": 0
}