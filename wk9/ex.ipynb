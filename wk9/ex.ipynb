{
 "cells": [
  {
   "cell_type": "code",
   "execution_count": 1,
   "metadata": {
    "collapsed": true
   },
   "outputs": [],
   "source": [
    "import numpy as np\n",
    "import pandas as pd"
   ]
  },
  {
   "cell_type": "code",
   "execution_count": 2,
   "outputs": [],
   "source": [
    "df = pd.read_csv('../dataset/wk9/outcome_data.csv')"
   ],
   "metadata": {
    "collapsed": false,
    "pycharm": {
     "name": "#%%\n"
    }
   }
  },
  {
   "cell_type": "code",
   "execution_count": 3,
   "outputs": [
    {
     "data": {
      "text/plain": "    District      House Type  Income  Previous Customer         Outcome\n0   Suburban        Detached    High                 No   Not responded\n1   Suburban        Detached    High                Yes   Not responded\n2      Rural        Detached    High                 No       Responded\n3      Urban   Semi-detached    High                 No       Responded\n4      Urban   Semi-detached     Low                 No       Responded\n5      Urban   Semi-detached     Low                Yes   Not responded\n6      Rural   Semi-detached     Low                Yes       Responded\n7   Suburban         Terrace    High                 No   Not responded\n8   Suburban   Semi-detached     Low                 No       Responded\n9      Urban         Terrace     Low                 No       Responded\n10  Suburban         Terrace     Low                Yes       Responded\n11     Rural         Terrace    High                Yes       Responded\n12     Rural        Detached     Low                 No       Responded\n13     Urban         Terrace    High                Yes   Not responded",
      "text/html": "<div>\n<style scoped>\n    .dataframe tbody tr th:only-of-type {\n        vertical-align: middle;\n    }\n\n    .dataframe tbody tr th {\n        vertical-align: top;\n    }\n\n    .dataframe thead th {\n        text-align: right;\n    }\n</style>\n<table border=\"1\" class=\"dataframe\">\n  <thead>\n    <tr style=\"text-align: right;\">\n      <th></th>\n      <th>District</th>\n      <th>House Type</th>\n      <th>Income</th>\n      <th>Previous Customer</th>\n      <th>Outcome</th>\n    </tr>\n  </thead>\n  <tbody>\n    <tr>\n      <th>0</th>\n      <td>Suburban</td>\n      <td>Detached</td>\n      <td>High</td>\n      <td>No</td>\n      <td>Not responded</td>\n    </tr>\n    <tr>\n      <th>1</th>\n      <td>Suburban</td>\n      <td>Detached</td>\n      <td>High</td>\n      <td>Yes</td>\n      <td>Not responded</td>\n    </tr>\n    <tr>\n      <th>2</th>\n      <td>Rural</td>\n      <td>Detached</td>\n      <td>High</td>\n      <td>No</td>\n      <td>Responded</td>\n    </tr>\n    <tr>\n      <th>3</th>\n      <td>Urban</td>\n      <td>Semi-detached</td>\n      <td>High</td>\n      <td>No</td>\n      <td>Responded</td>\n    </tr>\n    <tr>\n      <th>4</th>\n      <td>Urban</td>\n      <td>Semi-detached</td>\n      <td>Low</td>\n      <td>No</td>\n      <td>Responded</td>\n    </tr>\n    <tr>\n      <th>5</th>\n      <td>Urban</td>\n      <td>Semi-detached</td>\n      <td>Low</td>\n      <td>Yes</td>\n      <td>Not responded</td>\n    </tr>\n    <tr>\n      <th>6</th>\n      <td>Rural</td>\n      <td>Semi-detached</td>\n      <td>Low</td>\n      <td>Yes</td>\n      <td>Responded</td>\n    </tr>\n    <tr>\n      <th>7</th>\n      <td>Suburban</td>\n      <td>Terrace</td>\n      <td>High</td>\n      <td>No</td>\n      <td>Not responded</td>\n    </tr>\n    <tr>\n      <th>8</th>\n      <td>Suburban</td>\n      <td>Semi-detached</td>\n      <td>Low</td>\n      <td>No</td>\n      <td>Responded</td>\n    </tr>\n    <tr>\n      <th>9</th>\n      <td>Urban</td>\n      <td>Terrace</td>\n      <td>Low</td>\n      <td>No</td>\n      <td>Responded</td>\n    </tr>\n    <tr>\n      <th>10</th>\n      <td>Suburban</td>\n      <td>Terrace</td>\n      <td>Low</td>\n      <td>Yes</td>\n      <td>Responded</td>\n    </tr>\n    <tr>\n      <th>11</th>\n      <td>Rural</td>\n      <td>Terrace</td>\n      <td>High</td>\n      <td>Yes</td>\n      <td>Responded</td>\n    </tr>\n    <tr>\n      <th>12</th>\n      <td>Rural</td>\n      <td>Detached</td>\n      <td>Low</td>\n      <td>No</td>\n      <td>Responded</td>\n    </tr>\n    <tr>\n      <th>13</th>\n      <td>Urban</td>\n      <td>Terrace</td>\n      <td>High</td>\n      <td>Yes</td>\n      <td>Not responded</td>\n    </tr>\n  </tbody>\n</table>\n</div>"
     },
     "execution_count": 3,
     "metadata": {},
     "output_type": "execute_result"
    }
   ],
   "source": [
    "df"
   ],
   "metadata": {
    "collapsed": false,
    "pycharm": {
     "name": "#%%\n"
    }
   }
  },
  {
   "cell_type": "code",
   "execution_count": null,
   "outputs": [],
   "source": [],
   "metadata": {
    "collapsed": false,
    "pycharm": {
     "name": "#%%\n"
    }
   }
  }
 ],
 "metadata": {
  "kernelspec": {
   "display_name": "Python 3",
   "language": "python",
   "name": "python3"
  },
  "language_info": {
   "codemirror_mode": {
    "name": "ipython",
    "version": 2
   },
   "file_extension": ".py",
   "mimetype": "text/x-python",
   "name": "python",
   "nbconvert_exporter": "python",
   "pygments_lexer": "ipython2",
   "version": "2.7.6"
  }
 },
 "nbformat": 4,
 "nbformat_minor": 0
}