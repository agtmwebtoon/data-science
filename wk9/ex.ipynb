{
 "cells": [
  {
   "cell_type": "code",
   "execution_count": 2,
   "metadata": {
    "collapsed": true
   },
   "outputs": [],
   "source": [
    "import numpy as np\n",
    "import pandas as pd"
   ]
  },
  {
   "cell_type": "code",
   "execution_count": 3,
   "outputs": [
    {
     "data": {
      "text/plain": "0     Not responded\n1     Not responded\n7     Not responded\n8         Responded\n10        Responded\nName: Outcome, dtype: object"
     },
     "execution_count": 3,
     "metadata": {},
     "output_type": "execute_result"
    }
   ],
   "source": [
    "df = pd.read_csv('../dataset/wk9/outcome_data.csv')\n",
    "\n",
    "target_string = 'Responded'\n",
    "\n",
    "df_X = df.iloc[:, :-1]\n",
    "df_y = df.iloc[:, -1]\n",
    "\n",
    "xx = df_X[df_X['District'] == 'Suburban']\n",
    "\n",
    "df_y[xx.index]\n",
    "\n",
    "\n"
   ],
   "metadata": {
    "collapsed": false,
    "pycharm": {
     "name": "#%%\n"
    }
   }
  },
  {
   "cell_type": "code",
   "execution_count": 4,
   "outputs": [],
   "source": [
    "class Node:\n",
    "\n",
    "    def __init__(self):\n",
    "        self.branch = []\n",
    "        self.children = []\n",
    "        self.feature = ''\n",
    "        self.level = 0\n",
    "        self.is_leaf = False\n",
    "        self.result = None\n"
   ],
   "metadata": {
    "collapsed": false,
    "pycharm": {
     "name": "#%%\n"
    }
   }
  },
  {
   "cell_type": "code",
   "execution_count": 5,
   "outputs": [],
   "source": [
    "def get_impurity(target):\n",
    "    hit = np.where(target == target_string)[0]\n",
    "    flag = len(hit) == 0 or len(hit) == len(target)\n",
    "\n",
    "    return flag, len(hit)"
   ],
   "metadata": {
    "collapsed": false,
    "pycharm": {
     "name": "#%%\n"
    }
   }
  },
  {
   "cell_type": "code",
   "execution_count": 6,
   "outputs": [],
   "source": [
    "def find_info_gain(train, target, column):\n",
    "\n",
    "    target_idx = np.where(target == target_string)[0]\n",
    "    target_count = len(target_idx)\n",
    "\n",
    "    elems = train[column].unique()\n",
    "    total_ratio = target_count / train.shape[0]\n",
    "    entropy_total = - (total_ratio * np.log2(total_ratio) + (1 - total_ratio) * np.log2(1 - total_ratio))\n",
    "    entropys = []\n",
    "\n",
    "    for elem in elems:\n",
    "        entropy = 0\n",
    "\n",
    "        X_index =  train[train[column] == elem].index\n",
    "        y_index = target[target == target_string].index\n",
    "\n",
    "        intersec = np.intersect1d(X_index, y_index)\n",
    "\n",
    "        if len(intersec) == len(X_index) or len(intersec) == 0:\n",
    "            entropy = 0\n",
    "\n",
    "        else:\n",
    "            ratio = len(intersec) / len(X_index)\n",
    "            entropy = - (ratio * np.log2(ratio) + (1 - ratio) * np.log2(1 - ratio))\n",
    "            entropy *= len(intersec)\n",
    "\n",
    "        entropys.append(entropy)\n",
    "\n",
    "\n",
    "    ret = entropy_total - sum(entropys) / target_count\n",
    "    return ret"
   ],
   "metadata": {
    "collapsed": false,
    "pycharm": {
     "name": "#%%\n"
    }
   }
  },
  {
   "cell_type": "code",
   "execution_count": 29,
   "outputs": [
    {
     "name": "stdout",
     "output_type": "stream",
     "text": [
      "    District     House Type Income Previous Customer\n",
      "0   Suburban       Detached   High                No\n",
      "1   Suburban       Detached   High               Yes\n",
      "2      Rural       Detached   High                No\n",
      "3      Urban  Semi-detached   High                No\n",
      "4      Urban  Semi-detached    Low                No\n",
      "5      Urban  Semi-detached    Low               Yes\n",
      "6      Rural  Semi-detached    Low               Yes\n",
      "7   Suburban        Terrace   High                No\n",
      "8   Suburban  Semi-detached    Low                No\n",
      "9      Urban        Terrace    Low                No\n",
      "10  Suburban        Terrace    Low               Yes\n",
      "11     Rural        Terrace   High               Yes\n",
      "12     Rural       Detached    Low                No\n",
      "13     Urban        Terrace   High               Yes\n",
      "0     Not responded\n",
      "1     Not responded\n",
      "2         Responded\n",
      "3         Responded\n",
      "4         Responded\n",
      "5     Not responded\n",
      "6         Responded\n",
      "7     Not responded\n",
      "8         Responded\n",
      "9         Responded\n",
      "10        Responded\n",
      "11        Responded\n",
      "12        Responded\n",
      "13    Not responded\n",
      "Name: Outcome, dtype: object\n",
      "       House Type Income Previous Customer\n",
      "0        Detached   High                No\n",
      "1        Detached   High               Yes\n",
      "7         Terrace   High                No\n",
      "8   Semi-detached    Low                No\n",
      "10        Terrace    Low               Yes\n",
      "0     Not responded\n",
      "1     Not responded\n",
      "7     Not responded\n",
      "8         Responded\n",
      "10        Responded\n",
      "Name: Outcome, dtype: object\n",
      "  House Type Previous Customer\n",
      "0   Detached                No\n",
      "1   Detached               Yes\n",
      "7    Terrace                No\n",
      "0    Not responded\n",
      "1    Not responded\n",
      "7    Not responded\n",
      "Name: Outcome, dtype: object\n",
      "       House Type Previous Customer\n",
      "8   Semi-detached                No\n",
      "10        Terrace               Yes\n",
      "8     Responded\n",
      "10    Responded\n",
      "Name: Outcome, dtype: object\n",
      "       House Type Income Previous Customer\n",
      "2        Detached   High                No\n",
      "6   Semi-detached    Low               Yes\n",
      "11        Terrace   High               Yes\n",
      "12       Detached    Low                No\n",
      "2     Responded\n",
      "6     Responded\n",
      "11    Responded\n",
      "12    Responded\n",
      "Name: Outcome, dtype: object\n",
      "       House Type Income Previous Customer\n",
      "3   Semi-detached   High                No\n",
      "4   Semi-detached    Low                No\n",
      "5   Semi-detached    Low               Yes\n",
      "9         Terrace    Low                No\n",
      "13        Terrace   High               Yes\n",
      "3         Responded\n",
      "4         Responded\n",
      "5     Not responded\n",
      "9         Responded\n",
      "13    Not responded\n",
      "Name: Outcome, dtype: object\n",
      "      House Type Income\n",
      "3  Semi-detached   High\n",
      "4  Semi-detached    Low\n",
      "9        Terrace    Low\n",
      "3    Responded\n",
      "4    Responded\n",
      "9    Responded\n",
      "Name: Outcome, dtype: object\n",
      "       House Type Income\n",
      "5   Semi-detached    Low\n",
      "13        Terrace   High\n",
      "5     Not responded\n",
      "13    Not responded\n",
      "Name: Outcome, dtype: object\n"
     ]
    },
    {
     "name": "stderr",
     "output_type": "stream",
     "text": [
      "/opt/homebrew/Caskroom/miniforge/base/envs/RL_Sutton/lib/python3.8/site-packages/pandas/core/frame.py:4906: SettingWithCopyWarning: \n",
      "A value is trying to be set on a copy of a slice from a DataFrame\n",
      "\n",
      "See the caveats in the documentation: https://pandas.pydata.org/pandas-docs/stable/user_guide/indexing.html#returning-a-view-versus-a-copy\n",
      "  return super().drop(\n",
      "/opt/homebrew/Caskroom/miniforge/base/envs/RL_Sutton/lib/python3.8/site-packages/pandas/core/frame.py:4906: SettingWithCopyWarning: \n",
      "A value is trying to be set on a copy of a slice from a DataFrame\n",
      "\n",
      "See the caveats in the documentation: https://pandas.pydata.org/pandas-docs/stable/user_guide/indexing.html#returning-a-view-versus-a-copy\n",
      "  return super().drop(\n",
      "/opt/homebrew/Caskroom/miniforge/base/envs/RL_Sutton/lib/python3.8/site-packages/pandas/core/frame.py:4906: SettingWithCopyWarning: \n",
      "A value is trying to be set on a copy of a slice from a DataFrame\n",
      "\n",
      "See the caveats in the documentation: https://pandas.pydata.org/pandas-docs/stable/user_guide/indexing.html#returning-a-view-versus-a-copy\n",
      "  return super().drop(\n",
      "/opt/homebrew/Caskroom/miniforge/base/envs/RL_Sutton/lib/python3.8/site-packages/pandas/core/frame.py:4906: SettingWithCopyWarning: \n",
      "A value is trying to be set on a copy of a slice from a DataFrame\n",
      "\n",
      "See the caveats in the documentation: https://pandas.pydata.org/pandas-docs/stable/user_guide/indexing.html#returning-a-view-versus-a-copy\n",
      "  return super().drop(\n",
      "/opt/homebrew/Caskroom/miniforge/base/envs/RL_Sutton/lib/python3.8/site-packages/pandas/core/frame.py:4906: SettingWithCopyWarning: \n",
      "A value is trying to be set on a copy of a slice from a DataFrame\n",
      "\n",
      "See the caveats in the documentation: https://pandas.pydata.org/pandas-docs/stable/user_guide/indexing.html#returning-a-view-versus-a-copy\n",
      "  return super().drop(\n",
      "/opt/homebrew/Caskroom/miniforge/base/envs/RL_Sutton/lib/python3.8/site-packages/pandas/core/frame.py:4906: SettingWithCopyWarning: \n",
      "A value is trying to be set on a copy of a slice from a DataFrame\n",
      "\n",
      "See the caveats in the documentation: https://pandas.pydata.org/pandas-docs/stable/user_guide/indexing.html#returning-a-view-versus-a-copy\n",
      "  return super().drop(\n",
      "/opt/homebrew/Caskroom/miniforge/base/envs/RL_Sutton/lib/python3.8/site-packages/pandas/core/frame.py:4906: SettingWithCopyWarning: \n",
      "A value is trying to be set on a copy of a slice from a DataFrame\n",
      "\n",
      "See the caveats in the documentation: https://pandas.pydata.org/pandas-docs/stable/user_guide/indexing.html#returning-a-view-versus-a-copy\n",
      "  return super().drop(\n"
     ]
    }
   ],
   "source": [
    "def grow_tree(node, X, y, level):\n",
    "\n",
    "    print(X)\n",
    "    print(y)\n",
    "\n",
    "    flag, hit_cnt = get_impurity(y)\n",
    "    if flag:\n",
    "        node.level = level\n",
    "        node.is_leaf = True\n",
    "        node.result = target_string if hit_cnt != 0 else \"Not respond\"\n",
    "        return\n",
    "\n",
    "    columns = X.columns\n",
    "    entropys = []\n",
    "    for col in columns:\n",
    "        entropys.append(find_info_gain(X, y, col))\n",
    "\n",
    "    idx = np.argmax(entropys)\n",
    "\n",
    "    selected_feature = columns[idx]\n",
    "    node.feature = selected_feature\n",
    "    node.level = level\n",
    "\n",
    "    categories = X[selected_feature].unique()\n",
    "\n",
    "    for category in categories:\n",
    "        filtered_X = X[X[selected_feature] == category]\n",
    "        filtered_X_idx = filtered_X.index\n",
    "        filtered_y = y[filtered_X_idx]\n",
    "        filtered_X.drop(columns = [selected_feature], inplace=True)\n",
    "\n",
    "        child = Node()\n",
    "        node.branch.append(child)\n",
    "        node.children.append(category)\n",
    "        grow_tree(child, filtered_X, filtered_y, level + 1)\n",
    "\n",
    "\n",
    "\n",
    "root = Node()\n",
    "grow_tree(root, df_X, df_y, 0)\n",
    "\n"
   ],
   "metadata": {
    "collapsed": false,
    "pycharm": {
     "name": "#%%\n"
    }
   }
  },
  {
   "cell_type": "code",
   "execution_count": 30,
   "outputs": [],
   "source": [
    "def print_info(node, width, rule):\n",
    "    \"\"\"\n",
    "    Method to print the infromation about the tree\n",
    "    \"\"\"\n",
    "    # Defining the number of spaces\n",
    "    const = int(node.level * width ** 1.5)\n",
    "    spaces = \"-\" * const\n",
    "\n",
    "    if node.level == 0:\n",
    "        print(\"Root\")\n",
    "\n",
    "    if node.is_leaf:\n",
    "        print(f\"|{spaces} Prediction: is {node.result}\")\n",
    "\n",
    "    print(f\"|{spaces} Split rule: {node.feature} is {rule}\")\n",
    "    print(f\"{' ' * const}   | level: {node.level}\")\n",
    "\n",
    "def print_tree(node):\n",
    "    \"\"\"\n",
    "    Prints the whole tree from the current node to the bottom\n",
    "    \"\"\"\n",
    "    print_info(node, 4, node.children[idx])\n",
    "\n",
    "    children = node.branch\n",
    "\n",
    "    for idx, child in enumerate(children):\n",
    "        print_info(child, 4, node.children[idx])\n",
    "\n",
    "\n"
   ],
   "metadata": {
    "collapsed": false,
    "pycharm": {
     "name": "#%%\n"
    }
   }
  },
  {
   "cell_type": "code",
   "execution_count": 31,
   "outputs": [
    {
     "name": "stdout",
     "output_type": "stream",
     "text": [
      "Root\n",
      "| Split rule: District is ['Suburban', 'Rural', 'Urban']\n",
      "   | level: 0\n",
      "|-------- Split rule: Income is Suburban\n",
      "           | level: 1\n",
      "|-------- Prediction: is Responded\n",
      "|-------- Split rule:  is Rural\n",
      "           | level: 1\n",
      "|-------- Split rule: Previous Customer is Urban\n",
      "           | level: 1\n"
     ]
    }
   ],
   "source": [
    "print_tree(root)"
   ],
   "metadata": {
    "collapsed": false,
    "pycharm": {
     "name": "#%%\n"
    }
   }
  },
  {
   "cell_type": "code",
   "execution_count": null,
   "outputs": [],
   "source": [],
   "metadata": {
    "collapsed": false,
    "pycharm": {
     "name": "#%%\n"
    }
   }
  }
 ],
 "metadata": {
  "kernelspec": {
   "display_name": "Python 3",
   "language": "python",
   "name": "python3"
  },
  "language_info": {
   "codemirror_mode": {
    "name": "ipython",
    "version": 2
   },
   "file_extension": ".py",
   "mimetype": "text/x-python",
   "name": "python",
   "nbconvert_exporter": "python",
   "pygments_lexer": "ipython2",
   "version": "2.7.6"
  }
 },
 "nbformat": 4,
 "nbformat_minor": 0
}