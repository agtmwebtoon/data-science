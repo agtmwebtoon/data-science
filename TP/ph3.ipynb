{
 "cells": [
  {
   "cell_type": "code",
   "execution_count": 84,
   "metadata": {
    "collapsed": true
   },
   "outputs": [],
   "source": [
    "import pandas as pd\n",
    "import numpy as np\n",
    "import matplotlib.pyplot as plt\n",
    "from sklearn import linear_model\n",
    "from sklearn.preprocessing import StandardScaler\n",
    "\n",
    "# read excel file\n",
    "D = pd.read_excel(\"../dataset/bmi_data_phw3.xlsx\")"
   ]
  },
  {
   "cell_type": "code",
   "execution_count": 85,
   "outputs": [],
   "source": [
    "#Linear regression modeling function\n",
    "def modeling(dataset):\n",
    "\n",
    "    height = dataset['Height (Inches)']\n",
    "    weight = dataset['Weight (Pounds)']\n",
    "\n",
    "    reg = linear_model.LinearRegression()\n",
    "    reg.fit(height[:,np.newaxis], weight) #fit training data\n",
    "\n",
    "    return reg, height, weight"
   ],
   "metadata": {
    "collapsed": false,
    "pycharm": {
     "name": "#%%\n"
    }
   }
  },
  {
   "cell_type": "code",
   "execution_count": 86,
   "outputs": [],
   "source": [
    "def plotting(height, weight):\n",
    "    # range setting min-1 to max+1\n",
    "    px = np.array([height.min()-1, height.max()+1])\n",
    "    py = reg.predict(px[:,np.newaxis])\n",
    "    plt.scatter(height, weight) #plot with scatter plot\n",
    "    plt.plot(px,py,color=\"r\") #Plot linear model with red color\n",
    "    plt.xlabel(\"Height (Inches)\")\n",
    "    plt.ylabel(\"Weight (Pounds)\")\n",
    "    plt.show()"
   ],
   "metadata": {
    "collapsed": false,
    "pycharm": {
     "name": "#%%\n"
    }
   }
  },
  {
   "cell_type": "code",
   "execution_count": 87,
   "outputs": [],
   "source": [
    "# Normalization with StandardScaler and predict 0, 4 bmi index\n",
    "def find_a(E):\n",
    "    E_temp = np.asarray(E) #create numpy array with dataframe\n",
    "\n",
    "    scaler = StandardScaler()\n",
    "    prediction_with_scaler = scaler.fit_transform(E_temp.reshape(-1, 1)).flatten()\n",
    "    E[:] = prediction_with_scaler #column change\n",
    "\n",
    "    #plot z\n",
    "\n",
    "    a = 1.5\n",
    "\n",
    "    zero_bmi_idx = np.where(E < -a)[0] #find people who have 0 bmi index\n",
    "    four_bmi_idx = np.where(E > a)[0] #find people who have 4 bmi index\n",
    "\n",
    "    zi = E.index[zero_bmi_idx]\n",
    "    fi = E.index[four_bmi_idx]\n",
    "\n",
    "    return prediction_with_scaler, zi, fi #return people index"
   ],
   "metadata": {
    "collapsed": false,
    "pycharm": {
     "name": "#%%\n"
    }
   }
  },
  {
   "cell_type": "code",
   "execution_count": 88,
   "outputs": [],
   "source": [
    "#function for display information (reuse)\n",
    "def display_result(bmi_idx, df_target, bmi):\n",
    "    print(\"------Prediction-----\")\n",
    "    print(f'BMI {bmi} prediction =>  {bmi_idx}')\n",
    "    print(\"--------Target-------\")\n",
    "    print(df_target[df_target[\"BMI\"] == bmi])"
   ],
   "metadata": {
    "collapsed": false,
    "pycharm": {
     "name": "#%%\n"
    }
   }
  },
  {
   "cell_type": "code",
   "execution_count": 89,
   "outputs": [],
   "source": [
    "#split dataset into male and female\n",
    "df_male = D[D[\"Sex\"] == \"Male\"]\n",
    "df_female = D[D[\"Sex\"] == \"Female\"]"
   ],
   "metadata": {
    "collapsed": false,
    "pycharm": {
     "name": "#%%\n"
    }
   }
  },
  {
   "cell_type": "code",
   "execution_count": 97,
   "outputs": [
    {
     "name": "stderr",
     "output_type": "stream",
     "text": [
      "/var/folders/2g/lnwzhq354cgb0l80t1dhm59m0000gn/T/ipykernel_67758/3394664928.py:8: FutureWarning: Support for multi-dimensional indexing (e.g. `obj[:, None]`) is deprecated and will be removed in a future version.  Convert to a numpy array before indexing instead.\n",
      "  reg.fit(height[:,np.newaxis], weight) #fit training data\n"
     ]
    },
    {
     "data": {
      "text/plain": "<Figure size 432x288 with 1 Axes>",
      "image/png": "[encoded data removed]"
     },
     "metadata": {
      "needs_background": "light"
     },
     "output_type": "display_data"
    },
    {
     "name": "stdout",
     "output_type": "stream",
     "text": [
      "3    -33.458101\n",
      "7     -5.047372\n",
      "10    -7.129415\n",
      "13     8.716439\n",
      "14     1.937096\n",
      "15    -9.317412\n",
      "21   -24.731158\n",
      "23     0.471322\n",
      "24    -4.084160\n",
      "26   -29.640127\n",
      "27    20.142333\n",
      "29    10.828597\n",
      "30   -11.540474\n",
      "32    11.071961\n",
      "35    34.601043\n",
      "36   -27.459251\n",
      "39    13.878349\n",
      "40    -1.308225\n",
      "41    18.316108\n",
      "43     0.867816\n",
      "44    -9.221896\n",
      "46    -7.259939\n",
      "47    -1.748829\n",
      "48     4.380142\n",
      "52   -34.516809\n",
      "57    -3.660349\n",
      "58    34.856749\n",
      "59     5.525156\n",
      "61    11.649073\n",
      "62    12.064594\n",
      "64     2.899241\n",
      "65     9.279601\n",
      "69   -29.544668\n",
      "70     3.083568\n",
      "71     2.567306\n",
      "73    -0.457376\n",
      "76    42.098673\n",
      "83    -0.288646\n",
      "84    -8.768621\n",
      "86    19.095494\n",
      "87    -6.274072\n",
      "91   -11.984007\n",
      "92    -6.800080\n",
      "94    40.427141\n",
      "97   -34.516809\n",
      "Name: Weight (Pounds), dtype: float64\n",
      "------Prediction-----\n",
      "BMI 0 prediction =>  [ 3 26 52 69 97]\n",
      "--------Target-------\n",
      "     Sex  Age  Height (Inches)  Weight (Pounds)  BMI\n",
      "3   Male   24          66.6432          86.9820    0\n",
      "21  Male   30          69.2302         101.4527    0\n",
      "26  Male   18          63.9694          84.8635    0\n",
      "36  Male   24          67.0044          93.7828    0\n",
      "52  Male   29          65.9390          84.3598    0\n",
      "69  Male   31          63.1255          83.0853    0\n",
      "97  Male   29          65.9390          84.3598    0\n",
      "\n",
      "------Prediction-----\n",
      "BMI 4 prediction =>  [35 58 76 94]\n",
      "--------Target-------\n",
      "     Sex  Age  Height (Inches)  Weight (Pounds)  BMI\n",
      "35  Male   31          65.0184         151.4337    4\n",
      "58  Male   34          65.4361         152.6168    4\n",
      "76  Male   33          67.5655         164.5865    4\n",
      "94  Male   28          65.3199         157.9292    4\n"
     ]
    },
    {
     "name": "stderr",
     "output_type": "stream",
     "text": [
      "/var/folders/2g/lnwzhq354cgb0l80t1dhm59m0000gn/T/ipykernel_67758/2554120413.py:5: FutureWarning: Support for multi-dimensional indexing (e.g. `obj[:, None]`) is deprecated and will be removed in a future version.  Convert to a numpy array before indexing instead.\n",
      "  predicted_y=reg.predict(height[:,np.newaxis])\n"
     ]
    },
    {
     "data": {
      "text/plain": "<Figure size 432x288 with 1 Axes>",
      "image/png": "[encoded data removed]"
     },
     "metadata": {
      "needs_background": "light"
     },
     "output_type": "display_data"
    }
   ],
   "source": [
    "reg, height, weight = modeling(df_male) #find linear model\n",
    "\n",
    "plotting(height, weight)\n",
    "# predict weight\n",
    "predicted_y=reg.predict(height[:,np.newaxis])\n",
    "# calculate E (weight – predicted weight)\n",
    "E = weight - predicted_y\n",
    "\n",
    "print(E)\n",
    "\n",
    "prediction_with_scaler, male_zero_bmi_idx, male_four_bmi_idx = find_a(E) # find people who have  0, 4 bmi\n",
    "\n",
    "plt.hist(prediction_with_scaler, bins=10)\n",
    "plt.xlabel('Ze')\n",
    "plt.ylabel('frequency')\n",
    "\n",
    "display_result(male_zero_bmi_idx.values, df_male, 0) #print male with 0 bmi index information\n",
    "print()\n",
    "display_result(male_four_bmi_idx.values, df_male, 4) #print male with 4 bmi index information"
   ],
   "metadata": {
    "collapsed": false,
    "pycharm": {
     "name": "#%%\n"
    }
   }
  },
  {
   "cell_type": "code",
   "execution_count": 98,
   "outputs": [
    {
     "name": "stderr",
     "output_type": "stream",
     "text": [
      "/var/folders/2g/lnwzhq354cgb0l80t1dhm59m0000gn/T/ipykernel_67758/3394664928.py:8: FutureWarning: Support for multi-dimensional indexing (e.g. `obj[:, None]`) is deprecated and will be removed in a future version.  Convert to a numpy array before indexing instead.\n",
      "  reg.fit(height[:,np.newaxis], weight) #fit training data\n"
     ]
    },
    {
     "data": {
      "text/plain": "<Figure size 432x288 with 1 Axes>",
      "image/png": "[encoded data removed]"
     },
     "metadata": {
      "needs_background": "light"
     },
     "output_type": "display_data"
    },
    {
     "name": "stdout",
     "output_type": "stream",
     "text": [
      "0     -5.891648\n",
      "1      0.143064\n",
      "2      8.653761\n",
      "4     11.609544\n",
      "5    -28.507036\n",
      "6     -8.675466\n",
      "8     -8.083941\n",
      "9    -18.700602\n",
      "11   -22.149799\n",
      "12    27.155580\n",
      "16    -1.856321\n",
      "17    13.769144\n",
      "18     2.052799\n",
      "19     1.625049\n",
      "20   -12.072089\n",
      "22    15.807450\n",
      "25    22.609198\n",
      "28    19.095491\n",
      "31     7.685271\n",
      "33   -12.931844\n",
      "34   -14.606504\n",
      "37    -8.087059\n",
      "38    -3.020763\n",
      "42     6.016233\n",
      "45   -13.870666\n",
      "49     5.189927\n",
      "50    -0.779018\n",
      "51    -8.797802\n",
      "53    15.114436\n",
      "54    -5.500928\n",
      "55   -25.168676\n",
      "56    -5.005792\n",
      "60    12.140651\n",
      "63    12.581616\n",
      "66     1.924741\n",
      "67    27.431091\n",
      "68    13.677083\n",
      "72     5.827439\n",
      "74    -1.368846\n",
      "75     0.009800\n",
      "77     0.120618\n",
      "78     9.507119\n",
      "79    -0.357323\n",
      "80   -34.442297\n",
      "81    17.291040\n",
      "82     7.437887\n",
      "85     7.371030\n",
      "88    -3.333661\n",
      "89    -9.840070\n",
      "90   -34.118466\n",
      "93    -6.872157\n",
      "95     5.146713\n",
      "96    -6.185768\n",
      "98    -2.060413\n",
      "99    25.291180\n",
      "Name: Weight (Pounds), dtype: float64\n",
      "------Prediction-----\n",
      "BMI 0 prediction =>  [ 5 11 55 80 90]\n",
      "--------Target-------\n",
      "       Sex  Age  Height (Inches)  Weight (Pounds)  BMI\n",
      "5   Female   35          68.4899          97.8505    0\n",
      "11  Female   25          70.4750         105.7802    0\n",
      "80  Female   35          67.6636          91.2607    0\n",
      "90  Female   22          69.1344          92.7496    0\n",
      "\n",
      "------Prediction-----\n",
      "BMI 4 prediction =>  [12 25 67 99]\n",
      "--------Target-------\n",
      "       Sex  Age  Height (Inches)  Weight (Pounds)  BMI\n",
      "67  Female   30          64.5808         150.6921    4\n",
      "99  Female   22          64.5158         148.5007    4\n"
     ]
    },
    {
     "name": "stderr",
     "output_type": "stream",
     "text": [
      "/var/folders/2g/lnwzhq354cgb0l80t1dhm59m0000gn/T/ipykernel_67758/3070478428.py:5: FutureWarning: Support for multi-dimensional indexing (e.g. `obj[:, None]`) is deprecated and will be removed in a future version.  Convert to a numpy array before indexing instead.\n",
      "  predicted_y=reg.predict(height[:, np.newaxis])\n"
     ]
    },
    {
     "data": {
      "text/plain": "<Figure size 432x288 with 1 Axes>",
      "image/png": "[encoded data removed]"
     },
     "metadata": {
      "needs_background": "light"
     },
     "output_type": "display_data"
    }
   ],
   "source": [
    "reg, height, weight = modeling(df_female) #find linear model\n",
    "\n",
    "plotting(height, weight)\n",
    "# predict weight\n",
    "predicted_y=reg.predict(height[:, np.newaxis])\n",
    "# calculate E (weight – predicted weight)\n",
    "E = weight - predicted_y\n",
    "print(E)\n",
    "\n",
    "prediction_with_scaler, female_zero_bmi_idx, female_four_bmi_idx = find_a(E) #find people who have 0, 4 bmi\n",
    "\n",
    "plt.hist(prediction_with_scaler, bins=10)\n",
    "plt.xlabel('Ze')\n",
    "plt.ylabel('frequency')\n",
    "\n",
    "display_result(female_zero_bmi_idx.values, df_female, 0) #print female with 0 bmi index information\n",
    "print()\n",
    "display_result(female_four_bmi_idx.values, df_female, 4) #print female with 4 bmi index information"
   ],
   "metadata": {
    "collapsed": false,
    "pycharm": {
     "name": "#%%\n"
    }
   }
  },
  {
   "cell_type": "code",
   "execution_count": null,
   "outputs": [],
   "source": [],
   "metadata": {
    "collapsed": false,
    "pycharm": {
     "name": "#%%\n"
    }
   }
  }
 ],
 "metadata": {
  "kernelspec": {
   "name": "conda-env-RL_Sutton-py",
   "language": "python",
   "display_name": "Python [conda env:RL_Sutton] *"
  },
  "language_info": {
   "codemirror_mode": {
    "name": "ipython",
    "version": 2
   },
   "file_extension": ".py",
   "mimetype": "text/x-python",
   "name": "python",
   "nbconvert_exporter": "python",
   "pygments_lexer": "ipython2",
   "version": "2.7.6"
  }
 },
 "nbformat": 4,
 "nbformat_minor": 0
}