{
 "cells": [
  {
   "cell_type": "code",
   "execution_count": 1,
   "metadata": {
    "collapsed": true
   },
   "outputs": [],
   "source": [
    "import pandas as pd\n",
    "import numpy as np\n"
   ]
  },
  {
   "cell_type": "code",
   "execution_count": 2,
   "outputs": [],
   "source": [
    "df = pd.read_csv(\"../dataset/TermProject/train_data.csv\")\n"
   ],
   "metadata": {
    "collapsed": false,
    "pycharm": {
     "name": "#%%\n"
    }
   }
  },
  {
   "cell_type": "code",
   "execution_count": 3,
   "outputs": [],
   "source": [
    "df = df.drop(columns=[\"Unnamed: 0\"])"
   ],
   "metadata": {
    "collapsed": false,
    "pycharm": {
     "name": "#%%\n"
    }
   }
  },
  {
   "cell_type": "code",
   "execution_count": 4,
   "outputs": [
    {
     "data": {
      "text/plain": "             Rating  Rating Count  Minimum Installs  Maximum Installs  \\\ncount  19823.000000  1.982300e+04      1.999900e+04      2.000000e+04   \nmean       2.214302  1.469480e+03      1.368644e+05      2.309913e+05   \nstd        2.106622  2.506582e+04      7.192042e+06      1.157942e+07   \nmin        0.000000  0.000000e+00      0.000000e+00      0.000000e+00   \n25%        0.000000  0.000000e+00      5.000000e+01      8.600000e+01   \n50%        3.000000  6.000000e+00      5.000000e+02      7.020000e+02   \n75%        4.300000  4.400000e+01      5.000000e+03      7.452750e+03   \nmax        5.000000  1.888256e+06      1.000000e+09      1.616141e+09   \n\n              Price  \ncount  20000.000000  \nmean       0.098713  \nstd        1.672346  \nmin        0.000000  \n25%        0.000000  \n50%        0.000000  \n75%        0.000000  \nmax      119.990000  ",
      "text/html": "<div>\n<style scoped>\n    .dataframe tbody tr th:only-of-type {\n        vertical-align: middle;\n    }\n\n    .dataframe tbody tr th {\n        vertical-align: top;\n    }\n\n    .dataframe thead th {\n        text-align: right;\n    }\n</style>\n<table border=\"1\" class=\"dataframe\">\n  <thead>\n    <tr style=\"text-align: right;\">\n      <th></th>\n      <th>Rating</th>\n      <th>Rating Count</th>\n      <th>Minimum Installs</th>\n      <th>Maximum Installs</th>\n      <th>Price</th>\n    </tr>\n  </thead>\n  <tbody>\n    <tr>\n      <th>count</th>\n      <td>19823.000000</td>\n      <td>1.982300e+04</td>\n      <td>1.999900e+04</td>\n      <td>2.000000e+04</td>\n      <td>20000.000000</td>\n    </tr>\n    <tr>\n      <th>mean</th>\n      <td>2.214302</td>\n      <td>1.469480e+03</td>\n      <td>1.368644e+05</td>\n      <td>2.309913e+05</td>\n      <td>0.098713</td>\n    </tr>\n    <tr>\n      <th>std</th>\n      <td>2.106622</td>\n      <td>2.506582e+04</td>\n      <td>7.192042e+06</td>\n      <td>1.157942e+07</td>\n      <td>1.672346</td>\n    </tr>\n    <tr>\n      <th>min</th>\n      <td>0.000000</td>\n      <td>0.000000e+00</td>\n      <td>0.000000e+00</td>\n      <td>0.000000e+00</td>\n      <td>0.000000</td>\n    </tr>\n    <tr>\n      <th>25%</th>\n      <td>0.000000</td>\n      <td>0.000000e+00</td>\n      <td>5.000000e+01</td>\n      <td>8.600000e+01</td>\n      <td>0.000000</td>\n    </tr>\n    <tr>\n      <th>50%</th>\n      <td>3.000000</td>\n      <td>6.000000e+00</td>\n      <td>5.000000e+02</td>\n      <td>7.020000e+02</td>\n      <td>0.000000</td>\n    </tr>\n    <tr>\n      <th>75%</th>\n      <td>4.300000</td>\n      <td>4.400000e+01</td>\n      <td>5.000000e+03</td>\n      <td>7.452750e+03</td>\n      <td>0.000000</td>\n    </tr>\n    <tr>\n      <th>max</th>\n      <td>5.000000</td>\n      <td>1.888256e+06</td>\n      <td>1.000000e+09</td>\n      <td>1.616141e+09</td>\n      <td>119.990000</td>\n    </tr>\n  </tbody>\n</table>\n</div>"
     },
     "execution_count": 4,
     "metadata": {},
     "output_type": "execute_result"
    }
   ],
   "source": [
    "df.describe()"
   ],
   "metadata": {
    "collapsed": false,
    "pycharm": {
     "name": "#%%\n"
    }
   }
  },
  {
   "cell_type": "code",
   "execution_count": null,
   "outputs": [],
   "source": [],
   "metadata": {
    "collapsed": false,
    "pycharm": {
     "name": "#%%\n"
    }
   }
  }
 ],
 "metadata": {
  "kernelspec": {
   "display_name": "Python 3",
   "language": "python",
   "name": "python3"
  },
  "language_info": {
   "codemirror_mode": {
    "name": "ipython",
    "version": 2
   },
   "file_extension": ".py",
   "mimetype": "text/x-python",
   "name": "python",
   "nbconvert_exporter": "python",
   "pygments_lexer": "ipython2",
   "version": "2.7.6"
  }
 },
 "nbformat": 4,
 "nbformat_minor": 0
}