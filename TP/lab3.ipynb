{
 "cells": [
  {
   "cell_type": "code",
   "execution_count": 318,
   "metadata": {
    "collapsed": true
   },
   "outputs": [
    {
     "data": {
      "text/plain": "              Age  Height (Inches)  Weight (Pounds)         BMI\ncount  150.000000       146.000000       150.000000  145.000000\nmean    26.413333        80.133994       129.703405    2.751724\nstd      5.206071        96.579662        88.179891    0.449244\nmin     18.000000      -130.926162      -161.994913    1.000000\n25%     22.000000        66.599598       120.391125    3.000000\n50%     26.500000        68.219095       128.538050    3.000000\n75%     31.000000        69.432848       136.170900    3.000000\nmax     35.000000       665.465059      1110.621115    3.000000",
      "text/html": "<div>\n<style scoped>\n    .dataframe tbody tr th:only-of-type {\n        vertical-align: middle;\n    }\n\n    .dataframe tbody tr th {\n        vertical-align: top;\n    }\n\n    .dataframe thead th {\n        text-align: right;\n    }\n</style>\n<table border=\"1\" class=\"dataframe\">\n  <thead>\n    <tr style=\"text-align: right;\">\n      <th></th>\n      <th>Age</th>\n      <th>Height (Inches)</th>\n      <th>Weight (Pounds)</th>\n      <th>BMI</th>\n    </tr>\n  </thead>\n  <tbody>\n    <tr>\n      <th>count</th>\n      <td>150.000000</td>\n      <td>146.000000</td>\n      <td>150.000000</td>\n      <td>145.000000</td>\n    </tr>\n    <tr>\n      <th>mean</th>\n      <td>26.413333</td>\n      <td>80.133994</td>\n      <td>129.703405</td>\n      <td>2.751724</td>\n    </tr>\n    <tr>\n      <th>std</th>\n      <td>5.206071</td>\n      <td>96.579662</td>\n      <td>88.179891</td>\n      <td>0.449244</td>\n    </tr>\n    <tr>\n      <th>min</th>\n      <td>18.000000</td>\n      <td>-130.926162</td>\n      <td>-161.994913</td>\n      <td>1.000000</td>\n    </tr>\n    <tr>\n      <th>25%</th>\n      <td>22.000000</td>\n      <td>66.599598</td>\n      <td>120.391125</td>\n      <td>3.000000</td>\n    </tr>\n    <tr>\n      <th>50%</th>\n      <td>26.500000</td>\n      <td>68.219095</td>\n      <td>128.538050</td>\n      <td>3.000000</td>\n    </tr>\n    <tr>\n      <th>75%</th>\n      <td>31.000000</td>\n      <td>69.432848</td>\n      <td>136.170900</td>\n      <td>3.000000</td>\n    </tr>\n    <tr>\n      <th>max</th>\n      <td>35.000000</td>\n      <td>665.465059</td>\n      <td>1110.621115</td>\n      <td>3.000000</td>\n    </tr>\n  </tbody>\n</table>\n</div>"
     },
     "execution_count": 318,
     "metadata": {},
     "output_type": "execute_result"
    }
   ],
   "source": [
    "import numpy as np\n",
    "import pandas as pd\n",
    "from sklearn.linear_model import LinearRegression\n",
    "import matplotlib.pyplot as plt\n",
    "\n",
    "df = pd.read_csv('../dataset/bmi_data_lab3.csv')\n",
    "df.isna().sum() #Check null value\n",
    "df.describe() # show data briefly"
   ]
  },
  {
   "cell_type": "code",
   "execution_count": 319,
   "outputs": [
    {
     "data": {
      "text/plain": "Sex                 0\nAge                 0\nHeight (Inches)    12\nWeight (Pounds)     4\nBMI                 5\ndtype: int64"
     },
     "execution_count": 319,
     "metadata": {},
     "output_type": "execute_result"
    }
   ],
   "source": [
    "height_outlier = (60 > df[\"Height (Inches)\"]) | (df[\"Height (Inches)\"] > 75) #data preprocessing\n",
    "weight_outlier = (90 > df[\"Weight (Pounds)\"]) | (df[\"Weight (Pounds)\"] > 220)\n",
    "\n",
    "df.loc[height_outlier, \"Height (Inches)\"] = np.nan #replace outlier data to np.Nan\n",
    "df.loc[weight_outlier, \"Weight (Pounds)\"] = np.nan #replace outlier data to np.nan\n",
    "df.isna().sum()"
   ],
   "metadata": {
    "collapsed": false,
    "pycharm": {
     "name": "#%%\n"
    }
   }
  },
  {
   "cell_type": "code",
   "execution_count": 6,
   "outputs": [],
   "source": [
    "def modeling(raw_data): #find linear regression model my sklearn\n",
    "    temp_df = pd.concat([raw_data[\"Height (Inches)\"], raw_data[\"Weight (Pounds)\"]], axis=1)\n",
    "\n",
    "    dataset = temp_df.dropna(axis=0)\n",
    "\n",
    "    if dataset.shape[0] == 1: #return None if there is no element to delete\n",
    "        return None, None\n",
    "\n",
    "    outlier_X = dataset[\"Height (Inches)\"].values\n",
    "    outlier_y = dataset[\"Weight (Pounds)\"].values\n",
    "\n",
    "    weight_inference_model = LinearRegression()\n",
    "    weight_inference_model.fit(outlier_X.reshape(-1, 1), outlier_y)\n",
    "\n",
    "    height_inference_model = LinearRegression()\n",
    "    height_inference_model.fit(outlier_y.reshape(-1, 1), outlier_X)\n",
    "\n",
    "    return weight_inference_model, height_inference_model #return weight, height model both"
   ],
   "metadata": {
    "collapsed": false,
    "pycharm": {
     "name": "#%%\n"
    }
   }
  },
  {
   "cell_type": "code",
   "execution_count": 7,
   "outputs": [],
   "source": [
    "def fetch(row, height_model, weight_model): #replace nan data to value that found by linear regression\n",
    "    if np.isnan(row[\"Height (Inches)\"]):\n",
    "        inf = height_model.predict([[row[\"Weight (Pounds)\"]]])\n",
    "        row[\"Height (Inches)\"] = inf[-1] #array flatten\n",
    "\n",
    "    if np.isnan(row[\"Weight (Pounds)\"]):\n",
    "        inf = weight_model.predict([[row[\"Height (Inches)\"]]])\n",
    "        row[\"Weight (Pounds)\"] = inf[-1] #array faltten\n",
    "\n",
    "    return row"
   ],
   "metadata": {
    "collapsed": false,
    "pycharm": {
     "name": "#%%\n"
    }
   }
  },
  {
   "cell_type": "code",
   "execution_count": 297,
   "outputs": [
    {
     "data": {
      "text/plain": "              Age  Height (Inches)  Weight (Pounds)         BMI\ncount  150.000000       150.000000       150.000000  145.000000\nmean    26.413333        68.061833       127.729014    2.751724\nstd      5.206071         1.825019        11.712928    0.449244\nmin     18.000000        63.425770        97.901910    1.000000\n25%     22.000000        67.032593       120.846000    3.000000\n50%     26.500000        68.219095       128.643600    3.000000\n75%     31.000000        69.204072       136.038550    3.000000\nmax     35.000000        73.901070       155.898700    3.000000",
      "text/html": "<div>\n<style scoped>\n    .dataframe tbody tr th:only-of-type {\n        vertical-align: middle;\n    }\n\n    .dataframe tbody tr th {\n        vertical-align: top;\n    }\n\n    .dataframe thead th {\n        text-align: right;\n    }\n</style>\n<table border=\"1\" class=\"dataframe\">\n  <thead>\n    <tr style=\"text-align: right;\">\n      <th></th>\n      <th>Age</th>\n      <th>Height (Inches)</th>\n      <th>Weight (Pounds)</th>\n      <th>BMI</th>\n    </tr>\n  </thead>\n  <tbody>\n    <tr>\n      <th>count</th>\n      <td>150.000000</td>\n      <td>150.000000</td>\n      <td>150.000000</td>\n      <td>145.000000</td>\n    </tr>\n    <tr>\n      <th>mean</th>\n      <td>26.413333</td>\n      <td>68.061833</td>\n      <td>127.729014</td>\n      <td>2.751724</td>\n    </tr>\n    <tr>\n      <th>std</th>\n      <td>5.206071</td>\n      <td>1.825019</td>\n      <td>11.712928</td>\n      <td>0.449244</td>\n    </tr>\n    <tr>\n      <th>min</th>\n      <td>18.000000</td>\n      <td>63.425770</td>\n      <td>97.901910</td>\n      <td>1.000000</td>\n    </tr>\n    <tr>\n      <th>25%</th>\n      <td>22.000000</td>\n      <td>67.032593</td>\n      <td>120.846000</td>\n      <td>3.000000</td>\n    </tr>\n    <tr>\n      <th>50%</th>\n      <td>26.500000</td>\n      <td>68.219095</td>\n      <td>128.643600</td>\n      <td>3.000000</td>\n    </tr>\n    <tr>\n      <th>75%</th>\n      <td>31.000000</td>\n      <td>69.204072</td>\n      <td>136.038550</td>\n      <td>3.000000</td>\n    </tr>\n    <tr>\n      <th>max</th>\n      <td>35.000000</td>\n      <td>73.901070</td>\n      <td>155.898700</td>\n      <td>3.000000</td>\n    </tr>\n  </tbody>\n</table>\n</div>"
     },
     "execution_count": 297,
     "metadata": {},
     "output_type": "execute_result"
    }
   ],
   "source": [
    "wm, hm = modeling(df) #find linear regression model\n",
    "clean_dataset = df.apply(lambda x: fetch(x, hm, wm), axis=1) #apply fetch function\n",
    "clean_dataset.describe() #data describe"
   ],
   "metadata": {
    "collapsed": false,
    "pycharm": {
     "name": "#%%\n"
    }
   }
  },
  {
   "cell_type": "code",
   "execution_count": 281,
   "outputs": [
    {
     "data": {
      "text/plain": "             Age  Height (Inches)  Weight (Pounds)        BMI\ncount  86.000000        80.000000        83.000000  85.000000\nmean   26.965116        67.989207       126.635778   2.729412\nstd     5.109271         1.945817        12.380209   0.472789\nmin    18.000000        63.425770        97.901910   1.000000\n25%    23.000000        66.779815       119.625250   2.000000\n50%    27.000000        68.232355       128.074200   3.000000\n75%    31.000000        69.151602       134.737750   3.000000\nmax    35.000000        73.901070       155.898700   3.000000",
      "text/html": "<div>\n<style scoped>\n    .dataframe tbody tr th:only-of-type {\n        vertical-align: middle;\n    }\n\n    .dataframe tbody tr th {\n        vertical-align: top;\n    }\n\n    .dataframe thead th {\n        text-align: right;\n    }\n</style>\n<table border=\"1\" class=\"dataframe\">\n  <thead>\n    <tr style=\"text-align: right;\">\n      <th></th>\n      <th>Age</th>\n      <th>Height (Inches)</th>\n      <th>Weight (Pounds)</th>\n      <th>BMI</th>\n    </tr>\n  </thead>\n  <tbody>\n    <tr>\n      <th>count</th>\n      <td>86.000000</td>\n      <td>80.000000</td>\n      <td>83.000000</td>\n      <td>85.000000</td>\n    </tr>\n    <tr>\n      <th>mean</th>\n      <td>26.965116</td>\n      <td>67.989207</td>\n      <td>126.635778</td>\n      <td>2.729412</td>\n    </tr>\n    <tr>\n      <th>std</th>\n      <td>5.109271</td>\n      <td>1.945817</td>\n      <td>12.380209</td>\n      <td>0.472789</td>\n    </tr>\n    <tr>\n      <th>min</th>\n      <td>18.000000</td>\n      <td>63.425770</td>\n      <td>97.901910</td>\n      <td>1.000000</td>\n    </tr>\n    <tr>\n      <th>25%</th>\n      <td>23.000000</td>\n      <td>66.779815</td>\n      <td>119.625250</td>\n      <td>2.000000</td>\n    </tr>\n    <tr>\n      <th>50%</th>\n      <td>27.000000</td>\n      <td>68.232355</td>\n      <td>128.074200</td>\n      <td>3.000000</td>\n    </tr>\n    <tr>\n      <th>75%</th>\n      <td>31.000000</td>\n      <td>69.151602</td>\n      <td>134.737750</td>\n      <td>3.000000</td>\n    </tr>\n    <tr>\n      <th>max</th>\n      <td>35.000000</td>\n      <td>73.901070</td>\n      <td>155.898700</td>\n      <td>3.000000</td>\n    </tr>\n  </tbody>\n</table>\n</div>"
     },
     "execution_count": 281,
     "metadata": {},
     "output_type": "execute_result"
    }
   ],
   "source": [
    "groupby_gender_female = df[df['Sex']== 'Female'] #find group which name is Female in column 'Sex'\n",
    "groupby_gender_female.describe()"
   ],
   "metadata": {
    "collapsed": false,
    "pycharm": {
     "name": "#%%\n"
    }
   }
  },
  {
   "cell_type": "code",
   "execution_count": 282,
   "outputs": [
    {
     "data": {
      "text/plain": "             Age  Height (Inches)  Weight (Pounds)        BMI\ncount  86.000000        86.000000        86.000000  85.000000\nmean   26.965116        68.033336       126.549222   2.729412\nstd     5.109271         1.889659        12.290378   0.472789\nmin    18.000000        63.425770        97.901910   1.000000\n25%    23.000000        66.855897       119.497675   2.000000\n50%    27.000000        68.253645       127.829400   3.000000\n75%    31.000000        69.126968       134.704240   3.000000\nmax    35.000000        73.901070       155.898700   3.000000",
      "text/html": "<div>\n<style scoped>\n    .dataframe tbody tr th:only-of-type {\n        vertical-align: middle;\n    }\n\n    .dataframe tbody tr th {\n        vertical-align: top;\n    }\n\n    .dataframe thead th {\n        text-align: right;\n    }\n</style>\n<table border=\"1\" class=\"dataframe\">\n  <thead>\n    <tr style=\"text-align: right;\">\n      <th></th>\n      <th>Age</th>\n      <th>Height (Inches)</th>\n      <th>Weight (Pounds)</th>\n      <th>BMI</th>\n    </tr>\n  </thead>\n  <tbody>\n    <tr>\n      <th>count</th>\n      <td>86.000000</td>\n      <td>86.000000</td>\n      <td>86.000000</td>\n      <td>85.000000</td>\n    </tr>\n    <tr>\n      <th>mean</th>\n      <td>26.965116</td>\n      <td>68.033336</td>\n      <td>126.549222</td>\n      <td>2.729412</td>\n    </tr>\n    <tr>\n      <th>std</th>\n      <td>5.109271</td>\n      <td>1.889659</td>\n      <td>12.290378</td>\n      <td>0.472789</td>\n    </tr>\n    <tr>\n      <th>min</th>\n      <td>18.000000</td>\n      <td>63.425770</td>\n      <td>97.901910</td>\n      <td>1.000000</td>\n    </tr>\n    <tr>\n      <th>25%</th>\n      <td>23.000000</td>\n      <td>66.855897</td>\n      <td>119.497675</td>\n      <td>2.000000</td>\n    </tr>\n    <tr>\n      <th>50%</th>\n      <td>27.000000</td>\n      <td>68.253645</td>\n      <td>127.829400</td>\n      <td>3.000000</td>\n    </tr>\n    <tr>\n      <th>75%</th>\n      <td>31.000000</td>\n      <td>69.126968</td>\n      <td>134.704240</td>\n      <td>3.000000</td>\n    </tr>\n    <tr>\n      <th>max</th>\n      <td>35.000000</td>\n      <td>73.901070</td>\n      <td>155.898700</td>\n      <td>3.000000</td>\n    </tr>\n  </tbody>\n</table>\n</div>"
     },
     "execution_count": 282,
     "metadata": {},
     "output_type": "execute_result"
    }
   ],
   "source": [
    "wm, hm = modeling(groupby_gender_female)\n",
    "clean_dataset_female = groupby_gender_female.apply(lambda x: fetch(x, hm, wm), axis=1) #apply fetch function\n",
    "clean_dataset_female.describe()"
   ],
   "metadata": {
    "collapsed": false,
    "pycharm": {
     "name": "#%%\n"
    }
   }
  },
  {
   "cell_type": "code",
   "execution_count": 283,
   "outputs": [
    {
     "data": {
      "text/plain": "             Age  Height (Inches)  Weight (Pounds)        BMI\ncount  64.000000        58.000000        63.000000  60.000000\nmean   25.671875        68.123231       129.173638   2.783333\nstd     5.282660         1.832090        10.905599   0.415450\nmin    18.000000        63.836240       102.835100   2.000000\n25%    21.000000        66.933840       122.492900   3.000000\n50%    25.000000        68.217640       130.353000   3.000000\n75%    30.000000        69.704138       136.342400   3.000000\nmax    35.000000        71.230330       155.376700   3.000000",
      "text/html": "<div>\n<style scoped>\n    .dataframe tbody tr th:only-of-type {\n        vertical-align: middle;\n    }\n\n    .dataframe tbody tr th {\n        vertical-align: top;\n    }\n\n    .dataframe thead th {\n        text-align: right;\n    }\n</style>\n<table border=\"1\" class=\"dataframe\">\n  <thead>\n    <tr style=\"text-align: right;\">\n      <th></th>\n      <th>Age</th>\n      <th>Height (Inches)</th>\n      <th>Weight (Pounds)</th>\n      <th>BMI</th>\n    </tr>\n  </thead>\n  <tbody>\n    <tr>\n      <th>count</th>\n      <td>64.000000</td>\n      <td>58.000000</td>\n      <td>63.000000</td>\n      <td>60.000000</td>\n    </tr>\n    <tr>\n      <th>mean</th>\n      <td>25.671875</td>\n      <td>68.123231</td>\n      <td>129.173638</td>\n      <td>2.783333</td>\n    </tr>\n    <tr>\n      <th>std</th>\n      <td>5.282660</td>\n      <td>1.832090</td>\n      <td>10.905599</td>\n      <td>0.415450</td>\n    </tr>\n    <tr>\n      <th>min</th>\n      <td>18.000000</td>\n      <td>63.836240</td>\n      <td>102.835100</td>\n      <td>2.000000</td>\n    </tr>\n    <tr>\n      <th>25%</th>\n      <td>21.000000</td>\n      <td>66.933840</td>\n      <td>122.492900</td>\n      <td>3.000000</td>\n    </tr>\n    <tr>\n      <th>50%</th>\n      <td>25.000000</td>\n      <td>68.217640</td>\n      <td>130.353000</td>\n      <td>3.000000</td>\n    </tr>\n    <tr>\n      <th>75%</th>\n      <td>30.000000</td>\n      <td>69.704138</td>\n      <td>136.342400</td>\n      <td>3.000000</td>\n    </tr>\n    <tr>\n      <th>max</th>\n      <td>35.000000</td>\n      <td>71.230330</td>\n      <td>155.376700</td>\n      <td>3.000000</td>\n    </tr>\n  </tbody>\n</table>\n</div>"
     },
     "execution_count": 283,
     "metadata": {},
     "output_type": "execute_result"
    }
   ],
   "source": [
    "groupby_gender_male = df[df['Sex']== 'Male'] #find group which name ius Male in column 'Sex\n",
    "groupby_gender_male.describe()"
   ],
   "metadata": {
    "collapsed": false,
    "pycharm": {
     "name": "#%%\n"
    }
   }
  },
  {
   "cell_type": "code",
   "execution_count": 284,
   "outputs": [
    {
     "data": {
      "text/plain": "             Age  Height (Inches)  Weight (Pounds)        BMI\ncount  64.000000        64.000000        64.000000  60.000000\nmean   25.671875        68.100940       129.261595   2.783333\nstd     5.282660         1.752255        10.841559   0.415450\nmin    18.000000        63.836240       102.835100   2.000000\n25%    21.000000        67.081454       122.508450   3.000000\n50%    25.000000        68.118900       130.377600   3.000000\n75%    30.000000        69.553500       136.282450   3.000000\nmax    35.000000        71.230330       155.376700   3.000000",
      "text/html": "<div>\n<style scoped>\n    .dataframe tbody tr th:only-of-type {\n        vertical-align: middle;\n    }\n\n    .dataframe tbody tr th {\n        vertical-align: top;\n    }\n\n    .dataframe thead th {\n        text-align: right;\n    }\n</style>\n<table border=\"1\" class=\"dataframe\">\n  <thead>\n    <tr style=\"text-align: right;\">\n      <th></th>\n      <th>Age</th>\n      <th>Height (Inches)</th>\n      <th>Weight (Pounds)</th>\n      <th>BMI</th>\n    </tr>\n  </thead>\n  <tbody>\n    <tr>\n      <th>count</th>\n      <td>64.000000</td>\n      <td>64.000000</td>\n      <td>64.000000</td>\n      <td>60.000000</td>\n    </tr>\n    <tr>\n      <th>mean</th>\n      <td>25.671875</td>\n      <td>68.100940</td>\n      <td>129.261595</td>\n      <td>2.783333</td>\n    </tr>\n    <tr>\n      <th>std</th>\n      <td>5.282660</td>\n      <td>1.752255</td>\n      <td>10.841559</td>\n      <td>0.415450</td>\n    </tr>\n    <tr>\n      <th>min</th>\n      <td>18.000000</td>\n      <td>63.836240</td>\n      <td>102.835100</td>\n      <td>2.000000</td>\n    </tr>\n    <tr>\n      <th>25%</th>\n      <td>21.000000</td>\n      <td>67.081454</td>\n      <td>122.508450</td>\n      <td>3.000000</td>\n    </tr>\n    <tr>\n      <th>50%</th>\n      <td>25.000000</td>\n      <td>68.118900</td>\n      <td>130.377600</td>\n      <td>3.000000</td>\n    </tr>\n    <tr>\n      <th>75%</th>\n      <td>30.000000</td>\n      <td>69.553500</td>\n      <td>136.282450</td>\n      <td>3.000000</td>\n    </tr>\n    <tr>\n      <th>max</th>\n      <td>35.000000</td>\n      <td>71.230330</td>\n      <td>155.376700</td>\n      <td>3.000000</td>\n    </tr>\n  </tbody>\n</table>\n</div>"
     },
     "execution_count": 284,
     "metadata": {},
     "output_type": "execute_result"
    }
   ],
   "source": [
    "groupby_gender_male.describe()\n",
    "wm, hm = modeling(groupby_gender_male)\n",
    "clean_dataset_male = groupby_gender_male.apply(lambda x: fetch(x, hm, wm), axis=1) # apply fetch function\n",
    "clean_dataset_male.describe() #show data briefly\n",
    "\n"
   ],
   "metadata": {
    "collapsed": false,
    "pycharm": {
     "name": "#%%\n"
    }
   }
  },
  {
   "cell_type": "code",
   "execution_count": 285,
   "outputs": [
    {
     "name": "stdout",
     "output_type": "stream",
     "text": [
      "        Age  Height (Inches)  Weight (Pounds)  BMI\n",
      "count   1.0           1.0000           1.0000  1.0\n",
      "mean   25.0          69.5233         103.3016  1.0\n",
      "std     NaN              NaN              NaN  NaN\n",
      "min    25.0          69.5233         103.3016  1.0\n",
      "25%    25.0          69.5233         103.3016  1.0\n",
      "50%    25.0          69.5233         103.3016  1.0\n",
      "75%    25.0          69.5233         103.3016  1.0\n",
      "max    25.0          69.5233         103.3016  1.0\n",
      "        Age  Height (Inches)  Weight (Pounds)  BMI\n",
      "count   1.0           1.0000           1.0000  1.0\n",
      "mean   25.0          69.5233         103.3016  1.0\n",
      "std     NaN              NaN              NaN  NaN\n",
      "min    25.0          69.5233         103.3016  1.0\n",
      "25%    25.0          69.5233         103.3016  1.0\n",
      "50%    25.0          69.5233         103.3016  1.0\n",
      "75%    25.0          69.5233         103.3016  1.0\n",
      "max    25.0          69.5233         103.3016  1.0\n",
      "             Age  Height (Inches)  Weight (Pounds)   BMI\n",
      "count  34.000000        32.000000        33.000000  34.0\n",
      "mean   26.294118        67.626706       113.382456   2.0\n",
      "std     5.102165         2.048787         8.346160   0.0\n",
      "min    18.000000        63.481150        97.901910   2.0\n",
      "25%    22.000000        65.972130       107.156400   2.0\n",
      "50%    27.500000        67.915370       112.992500   2.0\n",
      "75%    30.000000        69.098962       116.819000   2.0\n",
      "max    35.000000        71.231610       130.698800   2.0\n",
      "             Age  Height (Inches)  Weight (Pounds)   BMI\n",
      "count  34.000000        34.000000        34.000000  34.0\n",
      "mean   26.294118        67.747574       113.378899   2.0\n",
      "std     5.102165         2.066047         8.218757   0.0\n",
      "min    18.000000        63.481150        97.901910   2.0\n",
      "25%    22.000000        66.109678       107.450400   2.0\n",
      "50%    27.500000        67.934795       113.127014   2.0\n",
      "75%    30.000000        69.101948       116.728950   2.0\n",
      "max    35.000000        71.231610       130.698800   2.0\n",
      "              Age  Height (Inches)  Weight (Pounds)    BMI\n",
      "count  110.000000       102.000000       108.000000  110.0\n",
      "mean    26.363636        68.153914       132.283525    3.0\n",
      "std      5.259726         1.830962         8.699433    0.0\n",
      "min     18.000000        63.425770       113.398900    3.0\n",
      "25%     22.000000        67.032593       126.440025    3.0\n",
      "50%     26.000000        68.235380       131.570900    3.0\n",
      "75%     31.000000        69.350588       137.793450    3.0\n",
      "max     35.000000        73.901070       155.898700    3.0\n",
      "              Age  Height (Inches)  Weight (Pounds)    BMI\n",
      "count  110.000000       110.000000       110.000000  110.0\n",
      "mean    26.363636        68.159864       132.237094    3.0\n",
      "std      5.259726         1.778200         8.712257    0.0\n",
      "min     18.000000        63.425770       113.398900    3.0\n",
      "25%     22.000000        67.098680       126.365675    3.0\n",
      "50%     26.000000        68.235620       131.570900    3.0\n",
      "75%     31.000000        69.205093       137.866150    3.0\n",
      "max     35.000000        73.901070       155.898700    3.0\n"
     ]
    }
   ],
   "source": [
    "for bmi in range(1, 3 + 1):\n",
    "    original_bmi = df[df[\"BMI\"] == bmi] #find BMI group 1 through 3\n",
    "    print(original_bmi.describe())\n",
    "    groupby_bmi = original_bmi.dropna(axis=0) #drop np.nan element\n",
    "    wm, hm = modeling(groupby_bmi)\n",
    "\n",
    "    if wm != None: #if there is something to replace\n",
    "        test = original_bmi.apply(lambda x: fetch(x, hm, wm), axis=1)\n",
    "        print(test.describe())\n",
    "\n",
    "    else: #if there is no element to replace then just print it\n",
    "        print(original_bmi.describe())"
   ],
   "metadata": {
    "collapsed": false,
    "pycharm": {
     "name": "#%%\n"
    }
   }
  },
  {
   "cell_type": "code",
   "execution_count": 8,
   "outputs": [],
   "source": [
    "import pandas as pd\n",
    "import numpy as np\n",
    "import matplotlib.pyplot as plt\n",
    "from sklearn import linear_model\n",
    "\n",
    "data=pd.read_csv(\"../dataset/bmi_data_lab3.csv\")\n",
    "\n",
    "\n",
    "outlier=data[ (data['Weight (Pounds)'] < 0) | (data['Weight (Pounds)'] > 200) | (data['Weight (Pounds)']==0) | (data['Height (Inches)'] < 0) | (data['Height (Inches)'] > 100) | (data['Height (Inches)']==0) |  (data['Height (Inches)'].isna())]\n",
    "\n",
    "data=data[ (data['Height (Inches)'] > 60) & (data['Height (Inches)'] < 75) & (data['Height (Inches)'] != 0 ) &  (data['Weight (Pounds)']!=np.nan) & (data['Weight (Pounds)'] > 90 ) & (data['Weight (Pounds)'] < 220) & (data['Weight (Pounds)']!=0) &  (data['Height (Inches)']!=np.nan)]"
   ],
   "metadata": {
    "collapsed": false,
    "pycharm": {
     "name": "#%%\n"
    }
   }
  },
  {
   "cell_type": "code",
   "execution_count": 9,
   "outputs": [
    {
     "name": "stderr",
     "output_type": "stream",
     "text": [
      "/opt/homebrew/Caskroom/miniforge/base/envs/RL_Sutton/lib/python3.8/site-packages/sklearn/base.py:450: UserWarning: X does not have valid feature names, but LinearRegression was fitted with feature names\n",
      "  warnings.warn(\n",
      "/opt/homebrew/Caskroom/miniforge/base/envs/RL_Sutton/lib/python3.8/site-packages/sklearn/base.py:450: UserWarning: X does not have valid feature names, but LinearRegression was fitted with feature names\n",
      "  warnings.warn(\n"
     ]
    }
   ],
   "source": [
    "reg_Y = linear_model.LinearRegression() # linear regression for Height\n",
    "reg_Y = reg_Y.fit(data.iloc[ :,2:3], data.iloc[ :,3:4])\n",
    "\n",
    "reg_X = linear_model.LinearRegression() #Linear regression for Weight\n",
    "reg_X = reg_X.fit(data.iloc[:, 3:4], data.iloc[:, 2:3])\n",
    "\n",
    "px = np.array([(data.iloc[ :,2:3].min()-1) , (data.iloc[ :,2:3].max()+1)]) #Height domain\n",
    "py = reg_Y.predict(px)\n",
    "\n",
    "px_height = np.array([(data.iloc[ :,3:4].min()-1) , (data.iloc[ :,3:4].max()+1)]) #Weight domain\n",
    "py_height = reg_X.predict(px_height)"
   ],
   "metadata": {
    "collapsed": false,
    "pycharm": {
     "name": "#%%\n"
    }
   }
  },
  {
   "cell_type": "code",
   "execution_count": 10,
   "outputs": [
    {
     "data": {
      "text/plain": "        Sex  Age  Height (Inches)  Weight (Pounds)  BMI\n1    Female   35              NaN         136.4873  3.0\n9      Male   25              NaN         120.6672  3.0\n10     Male   34              NaN         127.4516  NaN\n17   Female   31              NaN         142.9733  3.0\n33     Male   21              NaN         136.2225  3.0\n41   Female   31              NaN         124.8591  3.0\n47     Male   31              NaN         116.8190  2.0\n48     Male   21         69.82117              NaN  NaN\n69   Female   26              NaN         124.7299  NaN\n87   Female   27              NaN         131.5916  3.0\n90   Female   22              NaN         136.5479  3.0\n104  Female   18         67.75551              NaN  2.0\n111    Male   34              NaN         127.6064  2.0\n116    Male   23              NaN         132.6792  3.0\n129  Female   33         70.24100              NaN  3.0\n147  Female   30         64.49675              NaN  3.0",
      "text/html": "<div>\n<style scoped>\n    .dataframe tbody tr th:only-of-type {\n        vertical-align: middle;\n    }\n\n    .dataframe tbody tr th {\n        vertical-align: top;\n    }\n\n    .dataframe thead th {\n        text-align: right;\n    }\n</style>\n<table border=\"1\" class=\"dataframe\">\n  <thead>\n    <tr style=\"text-align: right;\">\n      <th></th>\n      <th>Sex</th>\n      <th>Age</th>\n      <th>Height (Inches)</th>\n      <th>Weight (Pounds)</th>\n      <th>BMI</th>\n    </tr>\n  </thead>\n  <tbody>\n    <tr>\n      <th>1</th>\n      <td>Female</td>\n      <td>35</td>\n      <td>NaN</td>\n      <td>136.4873</td>\n      <td>3.0</td>\n    </tr>\n    <tr>\n      <th>9</th>\n      <td>Male</td>\n      <td>25</td>\n      <td>NaN</td>\n      <td>120.6672</td>\n      <td>3.0</td>\n    </tr>\n    <tr>\n      <th>10</th>\n      <td>Male</td>\n      <td>34</td>\n      <td>NaN</td>\n      <td>127.4516</td>\n      <td>NaN</td>\n    </tr>\n    <tr>\n      <th>17</th>\n      <td>Female</td>\n      <td>31</td>\n      <td>NaN</td>\n      <td>142.9733</td>\n      <td>3.0</td>\n    </tr>\n    <tr>\n      <th>33</th>\n      <td>Male</td>\n      <td>21</td>\n      <td>NaN</td>\n      <td>136.2225</td>\n      <td>3.0</td>\n    </tr>\n    <tr>\n      <th>41</th>\n      <td>Female</td>\n      <td>31</td>\n      <td>NaN</td>\n      <td>124.8591</td>\n      <td>3.0</td>\n    </tr>\n    <tr>\n      <th>47</th>\n      <td>Male</td>\n      <td>31</td>\n      <td>NaN</td>\n      <td>116.8190</td>\n      <td>2.0</td>\n    </tr>\n    <tr>\n      <th>48</th>\n      <td>Male</td>\n      <td>21</td>\n      <td>69.82117</td>\n      <td>NaN</td>\n      <td>NaN</td>\n    </tr>\n    <tr>\n      <th>69</th>\n      <td>Female</td>\n      <td>26</td>\n      <td>NaN</td>\n      <td>124.7299</td>\n      <td>NaN</td>\n    </tr>\n    <tr>\n      <th>87</th>\n      <td>Female</td>\n      <td>27</td>\n      <td>NaN</td>\n      <td>131.5916</td>\n      <td>3.0</td>\n    </tr>\n    <tr>\n      <th>90</th>\n      <td>Female</td>\n      <td>22</td>\n      <td>NaN</td>\n      <td>136.5479</td>\n      <td>3.0</td>\n    </tr>\n    <tr>\n      <th>104</th>\n      <td>Female</td>\n      <td>18</td>\n      <td>67.75551</td>\n      <td>NaN</td>\n      <td>2.0</td>\n    </tr>\n    <tr>\n      <th>111</th>\n      <td>Male</td>\n      <td>34</td>\n      <td>NaN</td>\n      <td>127.6064</td>\n      <td>2.0</td>\n    </tr>\n    <tr>\n      <th>116</th>\n      <td>Male</td>\n      <td>23</td>\n      <td>NaN</td>\n      <td>132.6792</td>\n      <td>3.0</td>\n    </tr>\n    <tr>\n      <th>129</th>\n      <td>Female</td>\n      <td>33</td>\n      <td>70.24100</td>\n      <td>NaN</td>\n      <td>3.0</td>\n    </tr>\n    <tr>\n      <th>147</th>\n      <td>Female</td>\n      <td>30</td>\n      <td>64.49675</td>\n      <td>NaN</td>\n      <td>3.0</td>\n    </tr>\n  </tbody>\n</table>\n</div>"
     },
     "execution_count": 10,
     "metadata": {},
     "output_type": "execute_result"
    }
   ],
   "source": [
    "height_outlier = (60 > outlier[\"Height (Inches)\"]) | (outlier[\"Height (Inches)\"] > 75) #data preprocessing\n",
    "weight_outlier = (90 > outlier[\"Weight (Pounds)\"]) | (outlier[\"Weight (Pounds)\"] > 220)\n",
    "\n",
    "outlier.loc[height_outlier, \"Height (Inches)\"] = np.nan #replace outlier data to np.Nan\n",
    "outlier.loc[weight_outlier, \"Weight (Pounds)\"] = np.nan #repl\n",
    "\n",
    "outlier"
   ],
   "metadata": {
    "collapsed": false,
    "pycharm": {
     "name": "#%%\n"
    }
   }
  },
  {
   "cell_type": "code",
   "execution_count": 12,
   "outputs": [
    {
     "data": {
      "text/plain": "        Sex  Age      Height (Inches)       Weight (Pounds)  BMI\n1    Female   35  [68.82463542685686]              136.4873  3.0\n9      Male   25   [67.4456599581193]              120.6672  3.0\n10     Male   34   [68.0370292396095]              127.4516  NaN\n17   Female   31  [69.38999436202363]              142.9733  3.0\n33     Male   21  [68.80155385947602]              136.2225  3.0\n41   Female   31   [67.8110512810187]              124.8591  3.0\n47     Male   31   [67.1102276031534]               116.819  2.0\n48     Male   21             69.82117  [133.95208212738748]  NaN\n69   Female   26  [67.79978942865614]              124.7299  NaN\n87   Female   27  [68.39789664503509]              131.5916  3.0\n90   Female   22  [68.82991768887831]              136.5479  3.0\n104  Female   18             67.75551  [126.49433469630695]  2.0\n111    Male   34  [68.05052254259498]              127.6064  2.0\n116    Male   23  [68.49269843009327]              132.6792  3.0\n129  Female   33               70.241   [135.4678137114771]  3.0\n147  Female   30             64.49675  [114.72908338752039]  3.0",
      "text/html": "<div>\n<style scoped>\n    .dataframe tbody tr th:only-of-type {\n        vertical-align: middle;\n    }\n\n    .dataframe tbody tr th {\n        vertical-align: top;\n    }\n\n    .dataframe thead th {\n        text-align: right;\n    }\n</style>\n<table border=\"1\" class=\"dataframe\">\n  <thead>\n    <tr style=\"text-align: right;\">\n      <th></th>\n      <th>Sex</th>\n      <th>Age</th>\n      <th>Height (Inches)</th>\n      <th>Weight (Pounds)</th>\n      <th>BMI</th>\n    </tr>\n  </thead>\n  <tbody>\n    <tr>\n      <th>1</th>\n      <td>Female</td>\n      <td>35</td>\n      <td>[68.82463542685686]</td>\n      <td>136.4873</td>\n      <td>3.0</td>\n    </tr>\n    <tr>\n      <th>9</th>\n      <td>Male</td>\n      <td>25</td>\n      <td>[67.4456599581193]</td>\n      <td>120.6672</td>\n      <td>3.0</td>\n    </tr>\n    <tr>\n      <th>10</th>\n      <td>Male</td>\n      <td>34</td>\n      <td>[68.0370292396095]</td>\n      <td>127.4516</td>\n      <td>NaN</td>\n    </tr>\n    <tr>\n      <th>17</th>\n      <td>Female</td>\n      <td>31</td>\n      <td>[69.38999436202363]</td>\n      <td>142.9733</td>\n      <td>3.0</td>\n    </tr>\n    <tr>\n      <th>33</th>\n      <td>Male</td>\n      <td>21</td>\n      <td>[68.80155385947602]</td>\n      <td>136.2225</td>\n      <td>3.0</td>\n    </tr>\n    <tr>\n      <th>41</th>\n      <td>Female</td>\n      <td>31</td>\n      <td>[67.8110512810187]</td>\n      <td>124.8591</td>\n      <td>3.0</td>\n    </tr>\n    <tr>\n      <th>47</th>\n      <td>Male</td>\n      <td>31</td>\n      <td>[67.1102276031534]</td>\n      <td>116.819</td>\n      <td>2.0</td>\n    </tr>\n    <tr>\n      <th>48</th>\n      <td>Male</td>\n      <td>21</td>\n      <td>69.82117</td>\n      <td>[133.95208212738748]</td>\n      <td>NaN</td>\n    </tr>\n    <tr>\n      <th>69</th>\n      <td>Female</td>\n      <td>26</td>\n      <td>[67.79978942865614]</td>\n      <td>124.7299</td>\n      <td>NaN</td>\n    </tr>\n    <tr>\n      <th>87</th>\n      <td>Female</td>\n      <td>27</td>\n      <td>[68.39789664503509]</td>\n      <td>131.5916</td>\n      <td>3.0</td>\n    </tr>\n    <tr>\n      <th>90</th>\n      <td>Female</td>\n      <td>22</td>\n      <td>[68.82991768887831]</td>\n      <td>136.5479</td>\n      <td>3.0</td>\n    </tr>\n    <tr>\n      <th>104</th>\n      <td>Female</td>\n      <td>18</td>\n      <td>67.75551</td>\n      <td>[126.49433469630695]</td>\n      <td>2.0</td>\n    </tr>\n    <tr>\n      <th>111</th>\n      <td>Male</td>\n      <td>34</td>\n      <td>[68.05052254259498]</td>\n      <td>127.6064</td>\n      <td>2.0</td>\n    </tr>\n    <tr>\n      <th>116</th>\n      <td>Male</td>\n      <td>23</td>\n      <td>[68.49269843009327]</td>\n      <td>132.6792</td>\n      <td>3.0</td>\n    </tr>\n    <tr>\n      <th>129</th>\n      <td>Female</td>\n      <td>33</td>\n      <td>70.241</td>\n      <td>[135.4678137114771]</td>\n      <td>3.0</td>\n    </tr>\n    <tr>\n      <th>147</th>\n      <td>Female</td>\n      <td>30</td>\n      <td>64.49675</td>\n      <td>[114.72908338752039]</td>\n      <td>3.0</td>\n    </tr>\n  </tbody>\n</table>\n</div>"
     },
     "execution_count": 12,
     "metadata": {},
     "output_type": "execute_result"
    }
   ],
   "source": [
    "outlier = outlier.apply(lambda x: fetch(x, reg_X, reg_Y), axis=1)\n",
    "\n",
    "outlier"
   ],
   "metadata": {
    "collapsed": false,
    "pycharm": {
     "name": "#%%\n"
    }
   }
  },
  {
   "cell_type": "code",
   "execution_count": 13,
   "outputs": [
    {
     "data": {
      "text/plain": "<Figure size 432x288 with 1 Axes>",
      "image/png": "[encoded data removed]"
     },
     "metadata": {
      "needs_background": "light"
     },
     "output_type": "display_data"
    }
   ],
   "source": [
    "outlier_height = outlier[\"Height (Inches)\"]\n",
    "outlier_weight = outlier[\"Weight (Pounds)\"]\n",
    "plt.scatter(data.iloc[ :,2:3], data.iloc[ :,3:4])  # plot normal data\n",
    "plt.plot(px,py,color='r') #plot linear regression model for weight\n",
    "plt.plot(py_height, px_height, color='r') #plot linear regression model for height\n",
    "plt.scatter(outlier_height, outlier_weight, color='y') # plot replacedd data\n",
    "\n",
    "plt.xlabel('Height')\n",
    "plt.ylabel('Weight')\n",
    "plt.show()"
   ],
   "metadata": {
    "collapsed": false,
    "pycharm": {
     "name": "#%%\n"
    }
   }
  },
  {
   "cell_type": "code",
   "execution_count": 4,
   "outputs": [
    {
     "name": "stderr",
     "output_type": "stream",
     "text": [
      "/opt/homebrew/Caskroom/miniforge/base/envs/RL_Sutton/lib/python3.8/site-packages/sklearn/base.py:450: UserWarning: X does not have valid feature names, but LinearRegression was fitted with feature names\n",
      "  warnings.warn(\n"
     ]
    },
    {
     "data": {
      "text/plain": "<Figure size 432x288 with 1 Axes>",
      "image/png": "[encoded data removed]"
     },
     "metadata": {
      "needs_background": "light"
     },
     "output_type": "display_data"
    },
    {
     "name": "stdout",
     "output_type": "stream",
     "text": [
      "[[62.42577]\n",
      " [74.90107]]\n",
      "[[107.25212892]\n",
      " [152.29227905]]\n"
     ]
    }
   ],
   "source": [
    "import pandas as pd\n",
    "import numpy as np\n",
    "import matplotlib.pyplot as plt\n",
    "from sklearn import linear_model\n",
    "\n",
    "df = pd.read_csv('../dataset/bmi_data_lab3.csv')\n",
    "\n",
    "h_min = 60\n",
    "h_max = 75\n",
    "w_min = 90\n",
    "w_max = 220\n",
    "df.loc[ (df['Height (Inches)'] < h_min) | (df['Height (Inches)'] > h_max),'Height (Inches)'] = np.NaN   # change the outlier to NAN\n",
    "h_outlier = df[df['Height (Inches)'].isnull()].copy()\n",
    "df.loc[ (df['Weight (Pounds)'] < w_min) | (df['Weight (Pounds)'] > w_max), 'Weight (Pounds)'] = np.NaN # change the outlier to NAN\n",
    "w_outlier = df[df['Weight (Pounds)'].isnull()].copy()\n",
    "\n",
    "data = df[~(df['Height (Inches)'].isnull() | df['Weight (Pounds)'].isnull())].copy()\n",
    "reg = linear_model.LinearRegression()\n",
    "reg = reg.fit(data.iloc[ :,2:3], data.iloc[ :,3:4])\n",
    "\n",
    "px = np.array([  (data.iloc[ :,2:3].min()-1) , (data.iloc[ :,2:3].max()+1)     ])\n",
    "py = reg.predict(px)\n",
    "\n",
    "h_outlier['Height (Inches)'] = np.array(h_outlier['Weight (Pounds)']-reg.intercept_)/reg.coef_[0]\n",
    "w_outlier['Height (Inches)'] = np.array(w_outlier['Weight (Pounds)']*reg.coef_[0] + reg.intercept_)\n",
    "\n",
    "plt.scatter(data.iloc[ :,2:3], data.iloc[ :,3:4], c=\"blue\")\n",
    "plt.scatter(h_outlier.iloc[ :,2:3], h_outlier.iloc[ :,3:4], c=\"red\")\n",
    "plt.scatter(w_outlier.iloc[ :,2:3], w_outlier.iloc[ :,3:4], c=\"red\")\n",
    "plt.plot(px,py,color='black')\n",
    "plt.xlabel('Height')\n",
    "plt.ylabel('Weight')\n",
    "plt.show()\n",
    "\n",
    "print(px)\n",
    "print(py)\n"
   ],
   "metadata": {
    "collapsed": false,
    "pycharm": {
     "name": "#%%\n"
    }
   }
  },
  {
   "cell_type": "code",
   "execution_count": null,
   "outputs": [],
   "source": [],
   "metadata": {
    "collapsed": false,
    "pycharm": {
     "name": "#%%\n"
    }
   }
  }
 ],
 "metadata": {
  "kernelspec": {
   "display_name": "Python 3",
   "language": "python",
   "name": "python3"
  },
  "language_info": {
   "codemirror_mode": {
    "name": "ipython",
    "version": 2
   },
   "file_extension": ".py",
   "mimetype": "text/x-python",
   "name": "python",
   "nbconvert_exporter": "python",
   "pygments_lexer": "ipython2",
   "version": "2.7.6"
  }
 },
 "nbformat": 4,
 "nbformat_minor": 0
}